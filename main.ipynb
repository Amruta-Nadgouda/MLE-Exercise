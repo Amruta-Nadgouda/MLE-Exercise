{
 "cells": [
  {
   "cell_type": "markdown",
   "id": "bc4c4d29",
   "metadata": {},
   "source": [
    "## Prudential Financial - MLE Exercise\n",
    "\n",
    "**Aim**: Build a ML model to predict BMI and use the predicted BMI to share insurance quote"
   ]
  },
  {
   "cell_type": "markdown",
   "id": "90911130",
   "metadata": {},
   "source": [
    "**Import required libraries**"
   ]
  },
  {
   "cell_type": "code",
   "execution_count": 2,
   "id": "565518ea",
   "metadata": {
    "id": "565518ea"
   },
   "outputs": [],
   "source": [
    "import matplotlib.pyplot as plt\n",
    "import numpy as np\n",
    "import pandas as pd\n",
    "import pickle\n",
    "import seaborn as sns\n",
    "sns.set()\n",
    "import warnings\n",
    "warnings.filterwarnings(\"ignore\")\n",
    "\n",
    "import lightgbm as lgbm\n",
    "import xgboost as xg\n",
    "\n",
    "from sklearn.preprocessing import OneHotEncoder\n",
    "from sklearn.ensemble import RandomForestRegressor, GradientBoostingRegressor\n",
    "from sklearn.feature_selection import SelectKBest, f_regression\n",
    "from sklearn.linear_model import LinearRegression, Ridge\n",
    "from sklearn.metrics import r2_score, mean_squared_error, mean_absolute_error, median_absolute_error\n",
    "from sklearn.model_selection import train_test_split, cross_val_score, KFold\n",
    "from sklearn.preprocessing import RobustScaler, StandardScaler\n",
    "from sklearn.tree import DecisionTreeRegressor\n",
    "from sklearn.cluster import KMeans\n",
    "from sklearn.model_selection import GridSearchCV\n",
    "from sklearn.preprocessing import PolynomialFeatures"
   ]
  },
  {
   "cell_type": "markdown",
   "id": "-FoYdvp4CV-h",
   "metadata": {
    "id": "-FoYdvp4CV-h"
   },
   "source": [
    "### Data Loading"
   ]
  },
  {
   "cell_type": "markdown",
   "id": "6ce2fa5f",
   "metadata": {},
   "source": [
    "**Read the data from Dummy-Data.csv**"
   ]
  },
  {
   "cell_type": "code",
   "execution_count": 3,
   "id": "zmcny6aakaEw",
   "metadata": {
    "colab": {
     "base_uri": "https://localhost:8080/",
     "height": 223
    },
    "id": "zmcny6aakaEw",
    "outputId": "ffca9f98-4ea1-4dea-e786-c434dfa51bce"
   },
   "outputs": [
    {
     "data": {
      "text/html": [
       "<div>\n",
       "<style scoped>\n",
       "    .dataframe tbody tr th:only-of-type {\n",
       "        vertical-align: middle;\n",
       "    }\n",
       "\n",
       "    .dataframe tbody tr th {\n",
       "        vertical-align: top;\n",
       "    }\n",
       "\n",
       "    .dataframe thead th {\n",
       "        text-align: right;\n",
       "    }\n",
       "</style>\n",
       "<table border=\"1\" class=\"dataframe\">\n",
       "  <thead>\n",
       "    <tr style=\"text-align: right;\">\n",
       "      <th></th>\n",
       "      <th>AppID</th>\n",
       "      <th>Ins_Age</th>\n",
       "      <th>Ins_Gender</th>\n",
       "      <th>Ht</th>\n",
       "      <th>Wt</th>\n",
       "      <th>IssueDate</th>\n",
       "    </tr>\n",
       "  </thead>\n",
       "  <tbody>\n",
       "    <tr>\n",
       "      <th>0</th>\n",
       "      <td>56372</td>\n",
       "      <td>31</td>\n",
       "      <td>Male</td>\n",
       "      <td>510</td>\n",
       "      <td>185</td>\n",
       "      <td>NaN</td>\n",
       "    </tr>\n",
       "    <tr>\n",
       "      <th>1</th>\n",
       "      <td>34565</td>\n",
       "      <td>35</td>\n",
       "      <td>Male</td>\n",
       "      <td>510</td>\n",
       "      <td>205</td>\n",
       "      <td>NaN</td>\n",
       "    </tr>\n",
       "    <tr>\n",
       "      <th>2</th>\n",
       "      <td>57732</td>\n",
       "      <td>45</td>\n",
       "      <td>Female</td>\n",
       "      <td>510</td>\n",
       "      <td>125</td>\n",
       "      <td>NaN</td>\n",
       "    </tr>\n",
       "    <tr>\n",
       "      <th>3</th>\n",
       "      <td>87324</td>\n",
       "      <td>38</td>\n",
       "      <td>Male</td>\n",
       "      <td>503</td>\n",
       "      <td>175</td>\n",
       "      <td>NaN</td>\n",
       "    </tr>\n",
       "    <tr>\n",
       "      <th>4</th>\n",
       "      <td>12323</td>\n",
       "      <td>39</td>\n",
       "      <td>Female</td>\n",
       "      <td>600</td>\n",
       "      <td>252</td>\n",
       "      <td>NaN</td>\n",
       "    </tr>\n",
       "  </tbody>\n",
       "</table>\n",
       "</div>"
      ],
      "text/plain": [
       "   AppID  Ins_Age Ins_Gender   Ht   Wt  IssueDate\n",
       "0  56372       31       Male  510  185        NaN\n",
       "1  34565       35       Male  510  205        NaN\n",
       "2  57732       45     Female  510  125        NaN\n",
       "3  87324       38       Male  503  175        NaN\n",
       "4  12323       39     Female  600  252        NaN"
      ]
     },
     "execution_count": 3,
     "metadata": {},
     "output_type": "execute_result"
    }
   ],
   "source": [
    "df = pd.read_csv(r'C:\\Users\\amrut\\Documents\\Prudential\\Dummy-Data.csv')\n",
    "df.head()"
   ]
  },
  {
   "cell_type": "markdown",
   "id": "418251c9",
   "metadata": {},
   "source": [
    "### Data Cleaning"
   ]
  },
  {
   "cell_type": "markdown",
   "id": "b2d50fb8",
   "metadata": {},
   "source": [
    "**Convert the \"Ht\" column into Height in inches**"
   ]
  },
  {
   "cell_type": "code",
   "execution_count": 4,
   "id": "f2283c9f",
   "metadata": {},
   "outputs": [
    {
     "data": {
      "text/html": [
       "<div>\n",
       "<style scoped>\n",
       "    .dataframe tbody tr th:only-of-type {\n",
       "        vertical-align: middle;\n",
       "    }\n",
       "\n",
       "    .dataframe tbody tr th {\n",
       "        vertical-align: top;\n",
       "    }\n",
       "\n",
       "    .dataframe thead th {\n",
       "        text-align: right;\n",
       "    }\n",
       "</style>\n",
       "<table border=\"1\" class=\"dataframe\">\n",
       "  <thead>\n",
       "    <tr style=\"text-align: right;\">\n",
       "      <th></th>\n",
       "      <th>AppID</th>\n",
       "      <th>Ins_Age</th>\n",
       "      <th>Ins_Gender</th>\n",
       "      <th>Ht</th>\n",
       "      <th>Wt</th>\n",
       "      <th>IssueDate</th>\n",
       "      <th>height</th>\n",
       "    </tr>\n",
       "  </thead>\n",
       "  <tbody>\n",
       "    <tr>\n",
       "      <th>0</th>\n",
       "      <td>56372</td>\n",
       "      <td>31</td>\n",
       "      <td>Male</td>\n",
       "      <td>510</td>\n",
       "      <td>185</td>\n",
       "      <td>NaN</td>\n",
       "      <td>70</td>\n",
       "    </tr>\n",
       "    <tr>\n",
       "      <th>1</th>\n",
       "      <td>34565</td>\n",
       "      <td>35</td>\n",
       "      <td>Male</td>\n",
       "      <td>510</td>\n",
       "      <td>205</td>\n",
       "      <td>NaN</td>\n",
       "      <td>70</td>\n",
       "    </tr>\n",
       "    <tr>\n",
       "      <th>2</th>\n",
       "      <td>57732</td>\n",
       "      <td>45</td>\n",
       "      <td>Female</td>\n",
       "      <td>510</td>\n",
       "      <td>125</td>\n",
       "      <td>NaN</td>\n",
       "      <td>70</td>\n",
       "    </tr>\n",
       "    <tr>\n",
       "      <th>3</th>\n",
       "      <td>87324</td>\n",
       "      <td>38</td>\n",
       "      <td>Male</td>\n",
       "      <td>503</td>\n",
       "      <td>175</td>\n",
       "      <td>NaN</td>\n",
       "      <td>63</td>\n",
       "    </tr>\n",
       "    <tr>\n",
       "      <th>4</th>\n",
       "      <td>12323</td>\n",
       "      <td>39</td>\n",
       "      <td>Female</td>\n",
       "      <td>600</td>\n",
       "      <td>252</td>\n",
       "      <td>NaN</td>\n",
       "      <td>72</td>\n",
       "    </tr>\n",
       "  </tbody>\n",
       "</table>\n",
       "</div>"
      ],
      "text/plain": [
       "   AppID  Ins_Age Ins_Gender   Ht   Wt  IssueDate  height\n",
       "0  56372       31       Male  510  185        NaN      70\n",
       "1  34565       35       Male  510  205        NaN      70\n",
       "2  57732       45     Female  510  125        NaN      70\n",
       "3  87324       38       Male  503  175        NaN      63\n",
       "4  12323       39     Female  600  252        NaN      72"
      ]
     },
     "execution_count": 4,
     "metadata": {},
     "output_type": "execute_result"
    }
   ],
   "source": [
    "ft, inch = divmod(df['Ht'], 100)\n",
    "df['height'] = ft * 12 + inch\n",
    "df.head()"
   ]
  },
  {
   "cell_type": "markdown",
   "id": "8Mm47T5F0Txq",
   "metadata": {
    "id": "8Mm47T5F0Txq"
   },
   "source": [
    "**Check if any of the columns have NULL values**"
   ]
  },
  {
   "cell_type": "code",
   "execution_count": 5,
   "id": "aa1d977e",
   "metadata": {
    "colab": {
     "base_uri": "https://localhost:8080/"
    },
    "id": "aa1d977e",
    "outputId": "a20d5e62-6db3-47de-a616-182c4197a73e"
   },
   "outputs": [
    {
     "data": {
      "text/plain": [
       "AppID         False\n",
       "Ins_Age       False\n",
       "Ins_Gender    False\n",
       "Ht            False\n",
       "Wt            False\n",
       "IssueDate      True\n",
       "height        False\n",
       "dtype: bool"
      ]
     },
     "execution_count": 5,
     "metadata": {},
     "output_type": "execute_result"
    }
   ],
   "source": [
    "df.isnull().any()"
   ]
  },
  {
   "cell_type": "markdown",
   "id": "R9RPsHrm0deW",
   "metadata": {
    "id": "R9RPsHrm0deW"
   },
   "source": [
    "**Check if all the values in the \"IssueDate\" column are NULL** so that it can be dropped as it does not provide any useful information towards predicting BMI."
   ]
  },
  {
   "cell_type": "code",
   "execution_count": 6,
   "id": "O4NvRHzU0PH1",
   "metadata": {
    "colab": {
     "base_uri": "https://localhost:8080/"
    },
    "id": "O4NvRHzU0PH1",
    "outputId": "4119108d-4e54-4ddc-ebcb-de76d807c11f"
   },
   "outputs": [
    {
     "data": {
      "text/plain": [
       "True"
      ]
     },
     "execution_count": 6,
     "metadata": {},
     "output_type": "execute_result"
    }
   ],
   "source": [
    "df['IssueDate'].isnull().all()"
   ]
  },
  {
   "cell_type": "markdown",
   "id": "718b0ca5",
   "metadata": {
    "id": "718b0ca5"
   },
   "source": [
    "- The AppID can be dropped as it does not provide any useful information.\n",
    "- IssueDate column has only NaN value and hence can be dropped.\n",
    "- As we converted height into inches the old column Ht can be dropped."
   ]
  },
  {
   "cell_type": "code",
   "execution_count": 7,
   "id": "A8wy5cJsyG4T",
   "metadata": {
    "id": "A8wy5cJsyG4T"
   },
   "outputs": [],
   "source": [
    "df.drop(columns=[\"IssueDate\", \"AppID\", \"Ht\"], inplace=True)"
   ]
  },
  {
   "cell_type": "markdown",
   "id": "zM6r0pryyZVk",
   "metadata": {
    "id": "zM6r0pryyZVk"
   },
   "source": [
    "Let's rename the columns to make them easy to understand."
   ]
  },
  {
   "cell_type": "code",
   "execution_count": 8,
   "id": "1r2FERemyYvH",
   "metadata": {
    "colab": {
     "base_uri": "https://localhost:8080/",
     "height": 206
    },
    "id": "1r2FERemyYvH",
    "outputId": "9e8ab3c0-a7c7-4b4f-cac6-234d0a83c223"
   },
   "outputs": [
    {
     "data": {
      "text/html": [
       "<div>\n",
       "<style scoped>\n",
       "    .dataframe tbody tr th:only-of-type {\n",
       "        vertical-align: middle;\n",
       "    }\n",
       "\n",
       "    .dataframe tbody tr th {\n",
       "        vertical-align: top;\n",
       "    }\n",
       "\n",
       "    .dataframe thead th {\n",
       "        text-align: right;\n",
       "    }\n",
       "</style>\n",
       "<table border=\"1\" class=\"dataframe\">\n",
       "  <thead>\n",
       "    <tr style=\"text-align: right;\">\n",
       "      <th></th>\n",
       "      <th>age</th>\n",
       "      <th>gender</th>\n",
       "      <th>weight</th>\n",
       "      <th>height</th>\n",
       "    </tr>\n",
       "  </thead>\n",
       "  <tbody>\n",
       "    <tr>\n",
       "      <th>0</th>\n",
       "      <td>31</td>\n",
       "      <td>Male</td>\n",
       "      <td>185</td>\n",
       "      <td>70</td>\n",
       "    </tr>\n",
       "    <tr>\n",
       "      <th>1</th>\n",
       "      <td>35</td>\n",
       "      <td>Male</td>\n",
       "      <td>205</td>\n",
       "      <td>70</td>\n",
       "    </tr>\n",
       "    <tr>\n",
       "      <th>2</th>\n",
       "      <td>45</td>\n",
       "      <td>Female</td>\n",
       "      <td>125</td>\n",
       "      <td>70</td>\n",
       "    </tr>\n",
       "    <tr>\n",
       "      <th>3</th>\n",
       "      <td>38</td>\n",
       "      <td>Male</td>\n",
       "      <td>175</td>\n",
       "      <td>63</td>\n",
       "    </tr>\n",
       "    <tr>\n",
       "      <th>4</th>\n",
       "      <td>39</td>\n",
       "      <td>Female</td>\n",
       "      <td>252</td>\n",
       "      <td>72</td>\n",
       "    </tr>\n",
       "  </tbody>\n",
       "</table>\n",
       "</div>"
      ],
      "text/plain": [
       "   age  gender  weight  height\n",
       "0   31    Male     185      70\n",
       "1   35    Male     205      70\n",
       "2   45  Female     125      70\n",
       "3   38    Male     175      63\n",
       "4   39  Female     252      72"
      ]
     },
     "execution_count": 8,
     "metadata": {},
     "output_type": "execute_result"
    }
   ],
   "source": [
    "df = df.rename(columns={\"Ins_Age\": \"age\", \"Ins_Gender\": \"gender\", \"Wt\":\"weight\"})\n",
    "df.head()"
   ]
  },
  {
   "cell_type": "markdown",
   "id": "01c5e7d0",
   "metadata": {
    "id": "01c5e7d0"
   },
   "source": [
    "**Calculate BMI (which is our target variable)**"
   ]
  },
  {
   "cell_type": "code",
   "execution_count": 9,
   "id": "7d015c7b",
   "metadata": {
    "colab": {
     "base_uri": "https://localhost:8080/",
     "height": 206
    },
    "id": "7d015c7b",
    "outputId": "48494e3b-cbc9-474a-bb29-d09443a54836"
   },
   "outputs": [
    {
     "data": {
      "text/html": [
       "<div>\n",
       "<style scoped>\n",
       "    .dataframe tbody tr th:only-of-type {\n",
       "        vertical-align: middle;\n",
       "    }\n",
       "\n",
       "    .dataframe tbody tr th {\n",
       "        vertical-align: top;\n",
       "    }\n",
       "\n",
       "    .dataframe thead th {\n",
       "        text-align: right;\n",
       "    }\n",
       "</style>\n",
       "<table border=\"1\" class=\"dataframe\">\n",
       "  <thead>\n",
       "    <tr style=\"text-align: right;\">\n",
       "      <th></th>\n",
       "      <th>age</th>\n",
       "      <th>gender</th>\n",
       "      <th>weight</th>\n",
       "      <th>height</th>\n",
       "      <th>BMI</th>\n",
       "    </tr>\n",
       "  </thead>\n",
       "  <tbody>\n",
       "    <tr>\n",
       "      <th>0</th>\n",
       "      <td>31</td>\n",
       "      <td>Male</td>\n",
       "      <td>185</td>\n",
       "      <td>70</td>\n",
       "      <td>26.541837</td>\n",
       "    </tr>\n",
       "    <tr>\n",
       "      <th>1</th>\n",
       "      <td>35</td>\n",
       "      <td>Male</td>\n",
       "      <td>205</td>\n",
       "      <td>70</td>\n",
       "      <td>29.411224</td>\n",
       "    </tr>\n",
       "    <tr>\n",
       "      <th>2</th>\n",
       "      <td>45</td>\n",
       "      <td>Female</td>\n",
       "      <td>125</td>\n",
       "      <td>70</td>\n",
       "      <td>17.933673</td>\n",
       "    </tr>\n",
       "    <tr>\n",
       "      <th>3</th>\n",
       "      <td>38</td>\n",
       "      <td>Male</td>\n",
       "      <td>175</td>\n",
       "      <td>63</td>\n",
       "      <td>30.996473</td>\n",
       "    </tr>\n",
       "    <tr>\n",
       "      <th>4</th>\n",
       "      <td>39</td>\n",
       "      <td>Female</td>\n",
       "      <td>252</td>\n",
       "      <td>72</td>\n",
       "      <td>34.173611</td>\n",
       "    </tr>\n",
       "  </tbody>\n",
       "</table>\n",
       "</div>"
      ],
      "text/plain": [
       "   age  gender  weight  height        BMI\n",
       "0   31    Male     185      70  26.541837\n",
       "1   35    Male     205      70  29.411224\n",
       "2   45  Female     125      70  17.933673\n",
       "3   38    Male     175      63  30.996473\n",
       "4   39  Female     252      72  34.173611"
      ]
     },
     "execution_count": 9,
     "metadata": {},
     "output_type": "execute_result"
    }
   ],
   "source": [
    "def calculateBMI(ht_list, wt_list):\n",
    "    bmi = list()\n",
    "    \n",
    "    for h, w in zip(ht_list, wt_list):\n",
    "        bmi.append((w/(h*h)) * 703)\n",
    "        \n",
    "    return bmi\n",
    "\n",
    "bmi = calculateBMI(list(df.height), list(df.weight))\n",
    "\n",
    "df = df.assign(BMI = bmi)\n",
    "df.head()"
   ]
  },
  {
   "cell_type": "markdown",
   "id": "TL977uTQC8K7",
   "metadata": {
    "id": "TL977uTQC8K7"
   },
   "source": [
    "### Data Profiling"
   ]
  },
  {
   "cell_type": "code",
   "execution_count": 10,
   "id": "lrMHl5_iL614",
   "metadata": {
    "colab": {
     "base_uri": "https://localhost:8080/",
     "height": 458
    },
    "id": "lrMHl5_iL614",
    "outputId": "adf506c6-099a-42ff-8037-5aa19c51cf52"
   },
   "outputs": [
    {
     "data": {
      "text/html": [
       "<div>\n",
       "<style scoped>\n",
       "    .dataframe tbody tr th:only-of-type {\n",
       "        vertical-align: middle;\n",
       "    }\n",
       "\n",
       "    .dataframe tbody tr th {\n",
       "        vertical-align: top;\n",
       "    }\n",
       "\n",
       "    .dataframe thead th {\n",
       "        text-align: right;\n",
       "    }\n",
       "</style>\n",
       "<table border=\"1\" class=\"dataframe\">\n",
       "  <thead>\n",
       "    <tr style=\"text-align: right;\">\n",
       "      <th></th>\n",
       "      <th>age</th>\n",
       "      <th>weight</th>\n",
       "      <th>height</th>\n",
       "      <th>BMI</th>\n",
       "    </tr>\n",
       "  </thead>\n",
       "  <tbody>\n",
       "    <tr>\n",
       "      <th>count</th>\n",
       "      <td>100.000000</td>\n",
       "      <td>100.00000</td>\n",
       "      <td>100.000000</td>\n",
       "      <td>100.000000</td>\n",
       "    </tr>\n",
       "    <tr>\n",
       "      <th>mean</th>\n",
       "      <td>37.320000</td>\n",
       "      <td>165.15000</td>\n",
       "      <td>68.360000</td>\n",
       "      <td>25.080756</td>\n",
       "    </tr>\n",
       "    <tr>\n",
       "      <th>std</th>\n",
       "      <td>12.103827</td>\n",
       "      <td>27.66224</td>\n",
       "      <td>3.945385</td>\n",
       "      <td>4.930205</td>\n",
       "    </tr>\n",
       "    <tr>\n",
       "      <th>min</th>\n",
       "      <td>19.000000</td>\n",
       "      <td>110.00000</td>\n",
       "      <td>60.000000</td>\n",
       "      <td>15.405405</td>\n",
       "    </tr>\n",
       "    <tr>\n",
       "      <th>25%</th>\n",
       "      <td>27.750000</td>\n",
       "      <td>145.00000</td>\n",
       "      <td>66.000000</td>\n",
       "      <td>22.082227</td>\n",
       "    </tr>\n",
       "    <tr>\n",
       "      <th>50%</th>\n",
       "      <td>36.000000</td>\n",
       "      <td>170.00000</td>\n",
       "      <td>69.000000</td>\n",
       "      <td>25.085424</td>\n",
       "    </tr>\n",
       "    <tr>\n",
       "      <th>75%</th>\n",
       "      <td>47.000000</td>\n",
       "      <td>180.00000</td>\n",
       "      <td>71.000000</td>\n",
       "      <td>28.260810</td>\n",
       "    </tr>\n",
       "    <tr>\n",
       "      <th>max</th>\n",
       "      <td>59.000000</td>\n",
       "      <td>275.00000</td>\n",
       "      <td>77.000000</td>\n",
       "      <td>39.454082</td>\n",
       "    </tr>\n",
       "  </tbody>\n",
       "</table>\n",
       "</div>"
      ],
      "text/plain": [
       "              age     weight      height         BMI\n",
       "count  100.000000  100.00000  100.000000  100.000000\n",
       "mean    37.320000  165.15000   68.360000   25.080756\n",
       "std     12.103827   27.66224    3.945385    4.930205\n",
       "min     19.000000  110.00000   60.000000   15.405405\n",
       "25%     27.750000  145.00000   66.000000   22.082227\n",
       "50%     36.000000  170.00000   69.000000   25.085424\n",
       "75%     47.000000  180.00000   71.000000   28.260810\n",
       "max     59.000000  275.00000   77.000000   39.454082"
      ]
     },
     "metadata": {},
     "output_type": "display_data"
    },
    {
     "data": {
      "text/html": [
       "<div>\n",
       "<style scoped>\n",
       "    .dataframe tbody tr th:only-of-type {\n",
       "        vertical-align: middle;\n",
       "    }\n",
       "\n",
       "    .dataframe tbody tr th {\n",
       "        vertical-align: top;\n",
       "    }\n",
       "\n",
       "    .dataframe thead th {\n",
       "        text-align: right;\n",
       "    }\n",
       "</style>\n",
       "<table border=\"1\" class=\"dataframe\">\n",
       "  <thead>\n",
       "    <tr style=\"text-align: right;\">\n",
       "      <th></th>\n",
       "      <th>gender</th>\n",
       "    </tr>\n",
       "  </thead>\n",
       "  <tbody>\n",
       "    <tr>\n",
       "      <th>count</th>\n",
       "      <td>100</td>\n",
       "    </tr>\n",
       "    <tr>\n",
       "      <th>unique</th>\n",
       "      <td>2</td>\n",
       "    </tr>\n",
       "    <tr>\n",
       "      <th>top</th>\n",
       "      <td>Male</td>\n",
       "    </tr>\n",
       "    <tr>\n",
       "      <th>freq</th>\n",
       "      <td>63</td>\n",
       "    </tr>\n",
       "  </tbody>\n",
       "</table>\n",
       "</div>"
      ],
      "text/plain": [
       "       gender\n",
       "count     100\n",
       "unique      2\n",
       "top      Male\n",
       "freq       63"
      ]
     },
     "metadata": {},
     "output_type": "display_data"
    }
   ],
   "source": [
    "display(df.describe())\n",
    "display(df.describe(include=['O']))"
   ]
  },
  {
   "cell_type": "markdown",
   "id": "27535dd3",
   "metadata": {},
   "source": [
    "1. Age ranges from 19 to 59\n",
    "\n",
    "2. Weight ranges from 110 lbs to 275 lbs\n",
    "\n",
    "3. Height ranges from 60 inches to 77 inches\n",
    "\n",
    "4. Male customers are 63 in number and Female are 34."
   ]
  },
  {
   "cell_type": "markdown",
   "id": "yYvP9gAoMK5R",
   "metadata": {
    "id": "yYvP9gAoMK5R"
   },
   "source": [
    "### Data Visualization\n",
    "Now that our data is clean , we will look at visualizations and drawing correlations among features and target variable(BMI)"
   ]
  },
  {
   "cell_type": "code",
   "execution_count": 11,
   "id": "--79RZO-MR2-",
   "metadata": {
    "colab": {
     "base_uri": "https://localhost:8080/",
     "height": 724
    },
    "id": "--79RZO-MR2-",
    "outputId": "2060e4b7-8191-4f71-e23b-96e5ea786f9e"
   },
   "outputs": [
    {
     "data": {
      "image/png": "[encoded data removed]",
      "text/plain": [
       "<Figure size 720x720 with 20 Axes>"
      ]
     },
     "metadata": {},
     "output_type": "display_data"
    }
   ],
   "source": [
    "#histogram to see distribution of data points\n",
    "sns.pairplot(data=df, diag_kind='kde')\n",
    "plt.show()"
   ]
  },
  {
   "cell_type": "markdown",
   "id": "056111a4",
   "metadata": {},
   "source": [
    "There is not much skewness in the data. "
   ]
  },
  {
   "cell_type": "markdown",
   "id": "CRKils8_NIUb",
   "metadata": {
    "id": "CRKils8_NIUb"
   },
   "source": [
    "**Gender**"
   ]
  },
  {
   "cell_type": "code",
   "execution_count": 12,
   "id": "727949ce",
   "metadata": {
    "colab": {
     "base_uri": "https://localhost:8080/",
     "height": 355
    },
    "id": "727949ce",
    "outputId": "2c378913-4566-4909-ce67-a0ac1439688f"
   },
   "outputs": [
    {
     "data": {
      "image/png": "[encoded data removed]",
      "text/plain": [
       "<Figure size 360x360 with 1 Axes>"
      ]
     },
     "metadata": {},
     "output_type": "display_data"
    }
   ],
   "source": [
    "# Get the count of Gender\n",
    "\n",
    "plt.figure(figsize = (5, 5))\n",
    "# creating the bar plot\n",
    "sns.countplot(df.gender)\n",
    "plt.xlabel(\"Gender\")\n",
    "plt.ylabel(\"Count\")\n",
    "plt.title(\"Distribution of Gender\")\n",
    "plt.show()"
   ]
  },
  {
   "cell_type": "code",
   "execution_count": 13,
   "id": "jWczGzgaNy40",
   "metadata": {
    "colab": {
     "base_uri": "https://localhost:8080/",
     "height": 314
    },
    "id": "jWczGzgaNy40",
    "outputId": "ff70dd43-14f7-49ed-c2b2-b1a9ed516d31"
   },
   "outputs": [
    {
     "data": {
      "image/png": "[encoded data removed]",
      "text/plain": [
       "<Figure size 1584x432 with 4 Axes>"
      ]
     },
     "metadata": {},
     "output_type": "display_data"
    }
   ],
   "source": [
    "fig, ax2 = plt.subplots(1,4,  figsize=(22,6))\n",
    "fig.suptitle('Plot of Gender, Height, Weight vs BMI',)\n",
    "sns.boxplot(ax=ax2[0], x=df.gender, y=df.BMI)\n",
    "sns.lineplot(ax=ax2[1], x=df.height, y=df.BMI)\n",
    "sns.lineplot(ax=ax2[2], x=df.weight, y=df.BMI)\n",
    "sns.lineplot(ax=ax2[3], x=df.age, y=df.BMI)\n",
    "plt.show()"
   ]
  },
  {
   "cell_type": "markdown",
   "id": "5d53cfcf",
   "metadata": {},
   "source": [
    "**Subplot 1:** BMI in Male customers is higher than Female customers\n",
    "\n",
    "**Subplot 2:** BMI decreases as Height increases, if weight is kept constant. BMI and Height are inversely proportional.\n",
    "\n",
    "**Subplot 3:** BMI increases as Weight increases, if height is kept constant. BMI and Weight are directly proportional.\n",
    "\n",
    "**Subplot 4:** Age has no effect on BMI. The plot shows the BMI with respect to Age."
   ]
  },
  {
   "cell_type": "code",
   "execution_count": 14,
   "id": "3052c0a1",
   "metadata": {
    "colab": {
     "base_uri": "https://localhost:8080/",
     "height": 610
    },
    "id": "3052c0a1",
    "outputId": "d2fe078c-c37b-4947-ccdb-ecaad6eaf2d4",
    "scrolled": false
   },
   "outputs": [
    {
     "data": {
      "image/png": "[encoded data removed]",
      "text/plain": [
       "<Figure size 576x576 with 4 Axes>"
      ]
     },
     "metadata": {},
     "output_type": "display_data"
    }
   ],
   "source": [
    "df.hist(figsize = (8, 8))\n",
    "plt.show()"
   ]
  },
  {
   "cell_type": "code",
   "execution_count": 15,
   "id": "3NX1-W4HPG4x",
   "metadata": {
    "colab": {
     "base_uri": "https://localhost:8080/",
     "height": 348
    },
    "id": "3NX1-W4HPG4x",
    "outputId": "04d53263-5ef9-4b4d-e7fc-580179a1e121"
   },
   "outputs": [
    {
     "data": {
      "image/png": "[encoded data removed]",
      "text/plain": [
       "<Figure size 360x360 with 2 Axes>"
      ]
     },
     "metadata": {},
     "output_type": "display_data"
    }
   ],
   "source": [
    "#Correlation map between numeric features - age, height, weight and bmi\n",
    "\n",
    "plt.figure(figsize=(5,5))\n",
    "corr_matrix = df.corr()\n",
    "sns.heatmap(corr_matrix, cmap = 'Blues', annot=True, linewidths=0.1, linecolor='white')\n",
    "plt.xticks(rotation = 40)\n",
    "plt.show()"
   ]
  },
  {
   "cell_type": "markdown",
   "id": "91b87da2",
   "metadata": {},
   "source": [
    "**BMI and Weight have strong positive correlation.**\n",
    "\n",
    "**BMI and Height have strong negative correlation.**\n",
    "\n",
    "**BMI and Age have negative correlation**\n",
    "\n",
    "**We will not remove Weight column as it is an important feature in predicting BMI.**"
   ]
  },
  {
   "cell_type": "markdown",
   "id": "415fe2a5",
   "metadata": {},
   "source": [
    "### Data Preprocessing and Feature Engineering"
   ]
  },
  {
   "cell_type": "markdown",
   "id": "a19b8118",
   "metadata": {},
   "source": [
    "**Encode \"gender\" column using One Hot Encoding**"
   ]
  },
  {
   "cell_type": "code",
   "execution_count": 16,
   "id": "7G7jOmMHcXqK",
   "metadata": {
    "colab": {
     "base_uri": "https://localhost:8080/",
     "height": 206
    },
    "id": "7G7jOmMHcXqK",
    "outputId": "9e3473f9-ffdb-49f5-f052-b0b02ee80f1b"
   },
   "outputs": [
    {
     "data": {
      "text/html": [
       "<div>\n",
       "<style scoped>\n",
       "    .dataframe tbody tr th:only-of-type {\n",
       "        vertical-align: middle;\n",
       "    }\n",
       "\n",
       "    .dataframe tbody tr th {\n",
       "        vertical-align: top;\n",
       "    }\n",
       "\n",
       "    .dataframe thead th {\n",
       "        text-align: right;\n",
       "    }\n",
       "</style>\n",
       "<table border=\"1\" class=\"dataframe\">\n",
       "  <thead>\n",
       "    <tr style=\"text-align: right;\">\n",
       "      <th></th>\n",
       "      <th>age</th>\n",
       "      <th>gender</th>\n",
       "      <th>weight</th>\n",
       "      <th>height</th>\n",
       "      <th>BMI</th>\n",
       "    </tr>\n",
       "  </thead>\n",
       "  <tbody>\n",
       "    <tr>\n",
       "      <th>0</th>\n",
       "      <td>31</td>\n",
       "      <td>1.0</td>\n",
       "      <td>185</td>\n",
       "      <td>70</td>\n",
       "      <td>26.541837</td>\n",
       "    </tr>\n",
       "    <tr>\n",
       "      <th>1</th>\n",
       "      <td>35</td>\n",
       "      <td>1.0</td>\n",
       "      <td>205</td>\n",
       "      <td>70</td>\n",
       "      <td>29.411224</td>\n",
       "    </tr>\n",
       "    <tr>\n",
       "      <th>2</th>\n",
       "      <td>45</td>\n",
       "      <td>0.0</td>\n",
       "      <td>125</td>\n",
       "      <td>70</td>\n",
       "      <td>17.933673</td>\n",
       "    </tr>\n",
       "    <tr>\n",
       "      <th>3</th>\n",
       "      <td>38</td>\n",
       "      <td>1.0</td>\n",
       "      <td>175</td>\n",
       "      <td>63</td>\n",
       "      <td>30.996473</td>\n",
       "    </tr>\n",
       "    <tr>\n",
       "      <th>4</th>\n",
       "      <td>39</td>\n",
       "      <td>0.0</td>\n",
       "      <td>252</td>\n",
       "      <td>72</td>\n",
       "      <td>34.173611</td>\n",
       "    </tr>\n",
       "  </tbody>\n",
       "</table>\n",
       "</div>"
      ],
      "text/plain": [
       "   age  gender  weight  height        BMI\n",
       "0   31     1.0     185      70  26.541837\n",
       "1   35     1.0     205      70  29.411224\n",
       "2   45     0.0     125      70  17.933673\n",
       "3   38     1.0     175      63  30.996473\n",
       "4   39     0.0     252      72  34.173611"
      ]
     },
     "execution_count": 16,
     "metadata": {},
     "output_type": "execute_result"
    }
   ],
   "source": [
    "#generate binary values using Sklearn\n",
    "# creating instance of one-hot-encoder\n",
    "ohenc = OneHotEncoder(handle_unknown='ignore', drop='first')\n",
    "\n",
    "#Passing gender variable\n",
    "encDF = pd.DataFrame(ohenc.fit_transform(df[['gender']]).toarray())\n",
    "\n",
    "# replace the column with encoded values in the original dataset\n",
    "df['gender']= encDF\n",
    "df.head()"
   ]
  },
  {
   "cell_type": "markdown",
   "id": "5d633fb0",
   "metadata": {},
   "source": [
    "**Saving the OneHotEncoder model for future use**"
   ]
  },
  {
   "cell_type": "code",
   "execution_count": 17,
   "id": "b_dvH2f_5UDr",
   "metadata": {
    "id": "b_dvH2f_5UDr"
   },
   "outputs": [],
   "source": [
    "with open('onehotencoder.pkl', 'wb') as file:\n",
    "    pickle.dump(ohenc, file)"
   ]
  },
  {
   "cell_type": "markdown",
   "id": "f7d8d4c3",
   "metadata": {},
   "source": [
    "**Create X and y datasets to segragate independent features and dependent feature respectively**"
   ]
  },
  {
   "cell_type": "code",
   "execution_count": 18,
   "id": "a98lxkgsx2QX",
   "metadata": {
    "id": "a98lxkgsx2QX"
   },
   "outputs": [],
   "source": [
    "# create the X and y datasets to segragate independent features and dependent feature respectively\n",
    "\n",
    "X = df[['age', 'height', 'weight', 'gender']]\n",
    "y = df['BMI']"
   ]
  },
  {
   "cell_type": "markdown",
   "id": "03bc952f",
   "metadata": {},
   "source": [
    "**Split the data into training and test datasets**"
   ]
  },
  {
   "cell_type": "code",
   "execution_count": 19,
   "id": "45f1bb7e",
   "metadata": {},
   "outputs": [],
   "source": [
    "X_train, X_test, y_train, y_test = train_test_split(X, y, test_size=0.2, random_state = 1234)"
   ]
  },
  {
   "cell_type": "markdown",
   "id": "030c85d6",
   "metadata": {},
   "source": [
    "**Perform feature engineering using Polynomial Features Transform: Create new features based on existing ones.**"
   ]
  },
  {
   "cell_type": "code",
   "execution_count": 20,
   "id": "143833f0",
   "metadata": {},
   "outputs": [],
   "source": [
    "# Creating Polynomial Features with a degree of 3 that will add two new variables for each input variable.\n",
    "poly = PolynomialFeatures(degree=3)\n",
    "\n",
    "X_train_poly = poly.fit_transform(X_train)\n",
    "X_test_poly = poly.transform(X_test)"
   ]
  },
  {
   "cell_type": "markdown",
   "id": "1843c07c",
   "metadata": {},
   "source": [
    "**Saving Polynomial Feature Transform model for future use**"
   ]
  },
  {
   "cell_type": "code",
   "execution_count": 21,
   "id": "9673a6d5",
   "metadata": {},
   "outputs": [],
   "source": [
    "with open('polynomialFT.pkl', 'wb') as file:\n",
    "    pickle.dump(poly, file)"
   ]
  },
  {
   "cell_type": "markdown",
   "id": "033ab288",
   "metadata": {},
   "source": [
    "**Training and Testing Linear Regression, Ridge Regression, Decision Tree Regressor models on**\n",
    "\n",
    "**1. X_train and X_test**\n",
    "\n",
    "**2. X_train and X_test after applying Polynomial Features Transform (X_train_poly, X_test_poly)**\n",
    "\n",
    "**Storing the scores such as R2, MAE, RMSE into a dataframe**"
   ]
  },
  {
   "cell_type": "markdown",
   "id": "5c87c75b",
   "metadata": {},
   "source": [
    "**Function to fit the model, predict on test set and evaluate metrics**"
   ]
  },
  {
   "cell_type": "code",
   "execution_count": 22,
   "id": "fb8f2690",
   "metadata": {},
   "outputs": [],
   "source": [
    "def model_fit_predict(model, X_train, y_train, X_test, y_test, suffix):\n",
    "    \n",
    "    model.fit(X_train, y_train)\n",
    "    yhat = model.predict(X_test)\n",
    "    algoname = model.__class__.__name__ + suffix\n",
    "    \n",
    "    return algoname, round(r2_score(y_test, yhat),4), round(mean_absolute_error(y_test, yhat),4), round(np.sqrt(mean_squared_error(y_test, yhat)),4)"
   ]
  },
  {
   "cell_type": "code",
   "execution_count": 23,
   "id": "ldUCc9N8Ziw5",
   "metadata": {
    "colab": {
     "base_uri": "https://localhost:8080/",
     "height": 192
    },
    "id": "ldUCc9N8Ziw5",
    "outputId": "392f971c-0489-4653-df56-0d41c578e576"
   },
   "outputs": [],
   "source": [
    "algo=[LinearRegression(), Ridge(), DecisionTreeRegressor(random_state=200)]\n",
    "score=[]\n",
    "for a in algo:\n",
    "    score.append(model_fit_predict(a, X_train, y_train, X_test, y_test, suffix=\"\"))\n",
    "    score.append(model_fit_predict(a, X_train_poly, y_train, X_test_poly, y_test, suffix=\"_poly\"))"
   ]
  },
  {
   "cell_type": "markdown",
   "id": "448a5cf5",
   "metadata": {},
   "source": [
    "**Metrics DataFrame**"
   ]
  },
  {
   "cell_type": "code",
   "execution_count": 24,
   "id": "9fb29f51",
   "metadata": {},
   "outputs": [
    {
     "data": {
      "text/html": [
       "<div>\n",
       "<style scoped>\n",
       "    .dataframe tbody tr th:only-of-type {\n",
       "        vertical-align: middle;\n",
       "    }\n",
       "\n",
       "    .dataframe tbody tr th {\n",
       "        vertical-align: top;\n",
       "    }\n",
       "\n",
       "    .dataframe thead th {\n",
       "        text-align: right;\n",
       "    }\n",
       "</style>\n",
       "<table border=\"1\" class=\"dataframe\">\n",
       "  <thead>\n",
       "    <tr style=\"text-align: right;\">\n",
       "      <th></th>\n",
       "      <th>Model</th>\n",
       "      <th>R2Score</th>\n",
       "      <th>MAE</th>\n",
       "      <th>RMSE</th>\n",
       "    </tr>\n",
       "  </thead>\n",
       "  <tbody>\n",
       "    <tr>\n",
       "      <th>0</th>\n",
       "      <td>LinearRegression</td>\n",
       "      <td>0.9880</td>\n",
       "      <td>0.2633</td>\n",
       "      <td>0.3808</td>\n",
       "    </tr>\n",
       "    <tr>\n",
       "      <th>1</th>\n",
       "      <td>LinearRegression_poly</td>\n",
       "      <td>1.0000</td>\n",
       "      <td>0.0027</td>\n",
       "      <td>0.0054</td>\n",
       "    </tr>\n",
       "    <tr>\n",
       "      <th>2</th>\n",
       "      <td>Ridge</td>\n",
       "      <td>0.9880</td>\n",
       "      <td>0.2632</td>\n",
       "      <td>0.3796</td>\n",
       "    </tr>\n",
       "    <tr>\n",
       "      <th>3</th>\n",
       "      <td>Ridge_poly</td>\n",
       "      <td>0.9996</td>\n",
       "      <td>0.0462</td>\n",
       "      <td>0.0662</td>\n",
       "    </tr>\n",
       "    <tr>\n",
       "      <th>4</th>\n",
       "      <td>DecisionTreeRegressor</td>\n",
       "      <td>0.8973</td>\n",
       "      <td>0.8657</td>\n",
       "      <td>1.1131</td>\n",
       "    </tr>\n",
       "    <tr>\n",
       "      <th>5</th>\n",
       "      <td>DecisionTreeRegressor_poly</td>\n",
       "      <td>0.7782</td>\n",
       "      <td>1.2124</td>\n",
       "      <td>1.6354</td>\n",
       "    </tr>\n",
       "  </tbody>\n",
       "</table>\n",
       "</div>"
      ],
      "text/plain": [
       "                        Model  R2Score     MAE    RMSE\n",
       "0            LinearRegression   0.9880  0.2633  0.3808\n",
       "1       LinearRegression_poly   1.0000  0.0027  0.0054\n",
       "2                       Ridge   0.9880  0.2632  0.3796\n",
       "3                  Ridge_poly   0.9996  0.0462  0.0662\n",
       "4       DecisionTreeRegressor   0.8973  0.8657  1.1131\n",
       "5  DecisionTreeRegressor_poly   0.7782  1.2124  1.6354"
      ]
     },
     "execution_count": 24,
     "metadata": {},
     "output_type": "execute_result"
    }
   ],
   "source": [
    "metrics = pd.DataFrame(score, columns=['Model', 'R2Score', 'MAE', 'RMSE'])\n",
    "metrics"
   ]
  },
  {
   "cell_type": "markdown",
   "id": "81b38ba2",
   "metadata": {},
   "source": [
    "**From the above metrics dataframe, we can see that Linear Regression model with Polynomial Features Transform outperforms the other 2 models.**\n",
    "\n",
    "Tried Scaling X_train and X_test after applying Polynomial Features Transform but there was no difference between the metrics of Polynomial Features and Scaled Polynomial Features."
   ]
  },
  {
   "cell_type": "markdown",
   "id": "e3ec206c",
   "metadata": {},
   "source": [
    "**Let's fit Linear Regression model using Polynomial Features**"
   ]
  },
  {
   "cell_type": "code",
   "execution_count": 25,
   "id": "124ddd5a",
   "metadata": {},
   "outputs": [],
   "source": [
    "linreg_poly = LinearRegression()\n",
    "linreg_poly.fit(X_train_poly, y_train)\n",
    "yhat_lr_poly = linreg_poly.predict(X_test_poly)"
   ]
  },
  {
   "cell_type": "markdown",
   "id": "935768c0",
   "metadata": {},
   "source": [
    "**Saving the Linear Regression poly model for future use**"
   ]
  },
  {
   "cell_type": "code",
   "execution_count": 26,
   "id": "d8b4236c",
   "metadata": {},
   "outputs": [],
   "source": [
    "with open('linregmodel.pkl', 'wb') as file:\n",
    "    pickle.dump(linreg_poly, file)"
   ]
  },
  {
   "cell_type": "markdown",
   "id": "87faf9d9",
   "metadata": {},
   "source": [
    "## Performing different set of feature engineering, training and testing ensemble models"
   ]
  },
  {
   "cell_type": "markdown",
   "id": "t4kma6yPz4JI",
   "metadata": {
    "id": "t4kma6yPz4JI"
   },
   "source": [
    "**As a part of Feature Engineering process, Let's group similar customers into clusters using KMeans.**"
   ]
  },
  {
   "cell_type": "markdown",
   "id": "644336d4",
   "metadata": {},
   "source": [
    "**Creating a copy of original df into df2**"
   ]
  },
  {
   "cell_type": "code",
   "execution_count": 27,
   "id": "Osm7bwE8v1wp",
   "metadata": {
    "colab": {
     "base_uri": "https://localhost:8080/",
     "height": 206
    },
    "id": "Osm7bwE8v1wp",
    "outputId": "762886a0-cabd-4327-9f94-8ff34be8e131"
   },
   "outputs": [
    {
     "data": {
      "text/html": [
       "<div>\n",
       "<style scoped>\n",
       "    .dataframe tbody tr th:only-of-type {\n",
       "        vertical-align: middle;\n",
       "    }\n",
       "\n",
       "    .dataframe tbody tr th {\n",
       "        vertical-align: top;\n",
       "    }\n",
       "\n",
       "    .dataframe thead th {\n",
       "        text-align: right;\n",
       "    }\n",
       "</style>\n",
       "<table border=\"1\" class=\"dataframe\">\n",
       "  <thead>\n",
       "    <tr style=\"text-align: right;\">\n",
       "      <th></th>\n",
       "      <th>age</th>\n",
       "      <th>height</th>\n",
       "      <th>weight</th>\n",
       "      <th>gender</th>\n",
       "    </tr>\n",
       "  </thead>\n",
       "  <tbody>\n",
       "    <tr>\n",
       "      <th>0</th>\n",
       "      <td>31</td>\n",
       "      <td>70</td>\n",
       "      <td>185</td>\n",
       "      <td>1.0</td>\n",
       "    </tr>\n",
       "    <tr>\n",
       "      <th>1</th>\n",
       "      <td>35</td>\n",
       "      <td>70</td>\n",
       "      <td>205</td>\n",
       "      <td>1.0</td>\n",
       "    </tr>\n",
       "    <tr>\n",
       "      <th>2</th>\n",
       "      <td>45</td>\n",
       "      <td>70</td>\n",
       "      <td>125</td>\n",
       "      <td>0.0</td>\n",
       "    </tr>\n",
       "    <tr>\n",
       "      <th>3</th>\n",
       "      <td>38</td>\n",
       "      <td>63</td>\n",
       "      <td>175</td>\n",
       "      <td>1.0</td>\n",
       "    </tr>\n",
       "    <tr>\n",
       "      <th>4</th>\n",
       "      <td>39</td>\n",
       "      <td>72</td>\n",
       "      <td>252</td>\n",
       "      <td>0.0</td>\n",
       "    </tr>\n",
       "  </tbody>\n",
       "</table>\n",
       "</div>"
      ],
      "text/plain": [
       "   age  height  weight  gender\n",
       "0   31      70     185     1.0\n",
       "1   35      70     205     1.0\n",
       "2   45      70     125     0.0\n",
       "3   38      63     175     1.0\n",
       "4   39      72     252     0.0"
      ]
     },
     "execution_count": 27,
     "metadata": {},
     "output_type": "execute_result"
    }
   ],
   "source": [
    "df2 = df.copy()\n",
    "features = ['age', 'height', 'weight', 'gender']\n",
    "df2[features].head()"
   ]
  },
  {
   "cell_type": "markdown",
   "id": "b77bc30e",
   "metadata": {},
   "source": [
    "**Visualizing the elbow method to select the optimal number of clusters**"
   ]
  },
  {
   "cell_type": "code",
   "execution_count": 28,
   "id": "dsW_jvklTuvh",
   "metadata": {
    "colab": {
     "base_uri": "https://localhost:8080/",
     "height": 393
    },
    "id": "dsW_jvklTuvh",
    "outputId": "adf00447-a1ce-481e-d03a-a8f7ff35a33d"
   },
   "outputs": [
    {
     "data": {
      "image/png": "[encoded data removed]",
      "text/plain": [
       "<Figure size 576x396 with 2 Axes>"
      ]
     },
     "metadata": {},
     "output_type": "display_data"
    },
    {
     "data": {
      "text/plain": [
       "<AxesSubplot:title={'center':'Distortion Score Elbow for KMeans Clustering'}, xlabel='k', ylabel='distortion score'>"
      ]
     },
     "execution_count": 28,
     "metadata": {},
     "output_type": "execute_result"
    }
   ],
   "source": [
    "from yellowbrick.cluster import KElbowVisualizer\n",
    "\n",
    "km = KMeans(random_state=21)\n",
    "visualizer = KElbowVisualizer(km, k=(1,10))\n",
    "visualizer.fit(df2[features])        # Fit the data to the visualizer\n",
    "visualizer.show()"
   ]
  },
  {
   "cell_type": "markdown",
   "id": "a549d2a6",
   "metadata": {},
   "source": [
    "**The dotted line above indicates the elbow and a good indication that the underlying model fits best at that point.**\n",
    "\n",
    "**Therefore create 3 clusters using KMeans and fit the dataset**"
   ]
  },
  {
   "cell_type": "code",
   "execution_count": 29,
   "id": "rNSs8IppzFSd",
   "metadata": {
    "colab": {
     "base_uri": "https://localhost:8080/"
    },
    "id": "rNSs8IppzFSd",
    "outputId": "d06ac7fb-33f4-43c9-ed77-4fd36fcd77df"
   },
   "outputs": [
    {
     "data": {
      "text/html": [
       "<style>#sk-container-id-1 {color: black;background-color: white;}#sk-container-id-1 pre{padding: 0;}#sk-container-id-1 div.sk-toggleable {background-color: white;}#sk-container-id-1 label.sk-toggleable__label {cursor: pointer;display: block;width: 100%;margin-bottom: 0;padding: 0.3em;box-sizing: border-box;text-align: center;}#sk-container-id-1 label.sk-toggleable__label-arrow:before {content: \"▸\";float: left;margin-right: 0.25em;color: #696969;}#sk-container-id-1 label.sk-toggleable__label-arrow:hover:before {color: black;}#sk-container-id-1 div.sk-estimator:hover label.sk-toggleable__label-arrow:before {color: black;}#sk-container-id-1 div.sk-toggleable__content {max-height: 0;max-width: 0;overflow: hidden;text-align: left;background-color: #f0f8ff;}#sk-container-id-1 div.sk-toggleable__content pre {margin: 0.2em;color: black;border-radius: 0.25em;background-color: #f0f8ff;}#sk-container-id-1 input.sk-toggleable__control:checked~div.sk-toggleable__content {max-height: 200px;max-width: 100%;overflow: auto;}#sk-container-id-1 input.sk-toggleable__control:checked~label.sk-toggleable__label-arrow:before {content: \"▾\";}#sk-container-id-1 div.sk-estimator input.sk-toggleable__control:checked~label.sk-toggleable__label {background-color: #d4ebff;}#sk-container-id-1 div.sk-label input.sk-toggleable__control:checked~label.sk-toggleable__label {background-color: #d4ebff;}#sk-container-id-1 input.sk-hidden--visually {border: 0;clip: rect(1px 1px 1px 1px);clip: rect(1px, 1px, 1px, 1px);height: 1px;margin: -1px;overflow: hidden;padding: 0;position: absolute;width: 1px;}#sk-container-id-1 div.sk-estimator {font-family: monospace;background-color: #f0f8ff;border: 1px dotted black;border-radius: 0.25em;box-sizing: border-box;margin-bottom: 0.5em;}#sk-container-id-1 div.sk-estimator:hover {background-color: #d4ebff;}#sk-container-id-1 div.sk-parallel-item::after {content: \"\";width: 100%;border-bottom: 1px solid gray;flex-grow: 1;}#sk-container-id-1 div.sk-label:hover label.sk-toggleable__label {background-color: #d4ebff;}#sk-container-id-1 div.sk-serial::before {content: \"\";position: absolute;border-left: 1px solid gray;box-sizing: border-box;top: 0;bottom: 0;left: 50%;z-index: 0;}#sk-container-id-1 div.sk-serial {display: flex;flex-direction: column;align-items: center;background-color: white;padding-right: 0.2em;padding-left: 0.2em;position: relative;}#sk-container-id-1 div.sk-item {position: relative;z-index: 1;}#sk-container-id-1 div.sk-parallel {display: flex;align-items: stretch;justify-content: center;background-color: white;position: relative;}#sk-container-id-1 div.sk-item::before, #sk-container-id-1 div.sk-parallel-item::before {content: \"\";position: absolute;border-left: 1px solid gray;box-sizing: border-box;top: 0;bottom: 0;left: 50%;z-index: -1;}#sk-container-id-1 div.sk-parallel-item {display: flex;flex-direction: column;z-index: 1;position: relative;background-color: white;}#sk-container-id-1 div.sk-parallel-item:first-child::after {align-self: flex-end;width: 50%;}#sk-container-id-1 div.sk-parallel-item:last-child::after {align-self: flex-start;width: 50%;}#sk-container-id-1 div.sk-parallel-item:only-child::after {width: 0;}#sk-container-id-1 div.sk-dashed-wrapped {border: 1px dashed gray;margin: 0 0.4em 0.5em 0.4em;box-sizing: border-box;padding-bottom: 0.4em;background-color: white;}#sk-container-id-1 div.sk-label label {font-family: monospace;font-weight: bold;display: inline-block;line-height: 1.2em;}#sk-container-id-1 div.sk-label-container {text-align: center;}#sk-container-id-1 div.sk-container {/* jupyter's `normalize.less` sets `[hidden] { display: none; }` but bootstrap.min.css set `[hidden] { display: none !important; }` so we also need the `!important` here to be able to override the default hidden behavior on the sphinx rendered scikit-learn.org. See: https://github.com/scikit-learn/scikit-learn/issues/21755 */display: inline-block !important;position: relative;}#sk-container-id-1 div.sk-text-repr-fallback {display: none;}</style><div id=\"sk-container-id-1\" class=\"sk-top-container\"><div class=\"sk-text-repr-fallback\"><pre>KMeans(n_clusters=3, random_state=84)</pre><b>In a Jupyter environment, please rerun this cell to show the HTML representation or trust the notebook. <br />On GitHub, the HTML representation is unable to render, please try loading this page with nbviewer.org.</b></div><div class=\"sk-container\" hidden><div class=\"sk-item\"><div class=\"sk-estimator sk-toggleable\"><input class=\"sk-toggleable__control sk-hidden--visually\" id=\"sk-estimator-id-1\" type=\"checkbox\" checked><label for=\"sk-estimator-id-1\" class=\"sk-toggleable__label sk-toggleable__label-arrow\">KMeans</label><div class=\"sk-toggleable__content\"><pre>KMeans(n_clusters=3, random_state=84)</pre></div></div></div></div></div>"
      ],
      "text/plain": [
       "KMeans(n_clusters=3, random_state=84)"
      ]
     },
     "execution_count": 29,
     "metadata": {},
     "output_type": "execute_result"
    }
   ],
   "source": [
    "kmeans = KMeans(n_clusters=3, random_state=84)\n",
    "kmeans.fit(df2[features])"
   ]
  },
  {
   "cell_type": "markdown",
   "id": "c5c136bd",
   "metadata": {},
   "source": [
    "**Create a new feature using the labels (0,1,2).**"
   ]
  },
  {
   "cell_type": "code",
   "execution_count": 30,
   "id": "dz5KPMvQ7gP9",
   "metadata": {
    "colab": {
     "base_uri": "https://localhost:8080/",
     "height": 206
    },
    "id": "dz5KPMvQ7gP9",
    "outputId": "7feacb94-7eb9-48a6-f8f1-39bc3057572f"
   },
   "outputs": [
    {
     "data": {
      "text/html": [
       "<div>\n",
       "<style scoped>\n",
       "    .dataframe tbody tr th:only-of-type {\n",
       "        vertical-align: middle;\n",
       "    }\n",
       "\n",
       "    .dataframe tbody tr th {\n",
       "        vertical-align: top;\n",
       "    }\n",
       "\n",
       "    .dataframe thead th {\n",
       "        text-align: right;\n",
       "    }\n",
       "</style>\n",
       "<table border=\"1\" class=\"dataframe\">\n",
       "  <thead>\n",
       "    <tr style=\"text-align: right;\">\n",
       "      <th></th>\n",
       "      <th>age</th>\n",
       "      <th>gender</th>\n",
       "      <th>weight</th>\n",
       "      <th>height</th>\n",
       "      <th>BMI</th>\n",
       "      <th>cust_type</th>\n",
       "    </tr>\n",
       "  </thead>\n",
       "  <tbody>\n",
       "    <tr>\n",
       "      <th>0</th>\n",
       "      <td>31</td>\n",
       "      <td>1.0</td>\n",
       "      <td>185</td>\n",
       "      <td>70</td>\n",
       "      <td>26.541837</td>\n",
       "      <td>0</td>\n",
       "    </tr>\n",
       "    <tr>\n",
       "      <th>1</th>\n",
       "      <td>35</td>\n",
       "      <td>1.0</td>\n",
       "      <td>205</td>\n",
       "      <td>70</td>\n",
       "      <td>29.411224</td>\n",
       "      <td>2</td>\n",
       "    </tr>\n",
       "    <tr>\n",
       "      <th>2</th>\n",
       "      <td>45</td>\n",
       "      <td>0.0</td>\n",
       "      <td>125</td>\n",
       "      <td>70</td>\n",
       "      <td>17.933673</td>\n",
       "      <td>1</td>\n",
       "    </tr>\n",
       "    <tr>\n",
       "      <th>3</th>\n",
       "      <td>38</td>\n",
       "      <td>1.0</td>\n",
       "      <td>175</td>\n",
       "      <td>63</td>\n",
       "      <td>30.996473</td>\n",
       "      <td>0</td>\n",
       "    </tr>\n",
       "    <tr>\n",
       "      <th>4</th>\n",
       "      <td>39</td>\n",
       "      <td>0.0</td>\n",
       "      <td>252</td>\n",
       "      <td>72</td>\n",
       "      <td>34.173611</td>\n",
       "      <td>2</td>\n",
       "    </tr>\n",
       "  </tbody>\n",
       "</table>\n",
       "</div>"
      ],
      "text/plain": [
       "   age  gender  weight  height        BMI  cust_type\n",
       "0   31     1.0     185      70  26.541837          0\n",
       "1   35     1.0     205      70  29.411224          2\n",
       "2   45     0.0     125      70  17.933673          1\n",
       "3   38     1.0     175      63  30.996473          0\n",
       "4   39     0.0     252      72  34.173611          2"
      ]
     },
     "execution_count": 30,
     "metadata": {},
     "output_type": "execute_result"
    }
   ],
   "source": [
    "df2['cust_type'] = kmeans.labels_\n",
    "df2.head()"
   ]
  },
  {
   "cell_type": "markdown",
   "id": "1b3f6a8f",
   "metadata": {},
   "source": [
    "**Selecting 4 best columns to train the model**"
   ]
  },
  {
   "cell_type": "code",
   "execution_count": 31,
   "id": "LBqLZUMsz__Q",
   "metadata": {
    "colab": {
     "base_uri": "https://localhost:8080/",
     "height": 206
    },
    "id": "LBqLZUMsz__Q",
    "outputId": "01480ee2-0329-4232-b1dd-75e6ce13991a"
   },
   "outputs": [
    {
     "data": {
      "text/html": [
       "<div>\n",
       "<style scoped>\n",
       "    .dataframe tbody tr th:only-of-type {\n",
       "        vertical-align: middle;\n",
       "    }\n",
       "\n",
       "    .dataframe tbody tr th {\n",
       "        vertical-align: top;\n",
       "    }\n",
       "\n",
       "    .dataframe thead th {\n",
       "        text-align: right;\n",
       "    }\n",
       "</style>\n",
       "<table border=\"1\" class=\"dataframe\">\n",
       "  <thead>\n",
       "    <tr style=\"text-align: right;\">\n",
       "      <th></th>\n",
       "      <th>height</th>\n",
       "      <th>weight</th>\n",
       "      <th>gender</th>\n",
       "      <th>cust_type</th>\n",
       "    </tr>\n",
       "  </thead>\n",
       "  <tbody>\n",
       "    <tr>\n",
       "      <th>0</th>\n",
       "      <td>70</td>\n",
       "      <td>185</td>\n",
       "      <td>1.0</td>\n",
       "      <td>0</td>\n",
       "    </tr>\n",
       "    <tr>\n",
       "      <th>1</th>\n",
       "      <td>70</td>\n",
       "      <td>205</td>\n",
       "      <td>1.0</td>\n",
       "      <td>2</td>\n",
       "    </tr>\n",
       "    <tr>\n",
       "      <th>2</th>\n",
       "      <td>70</td>\n",
       "      <td>125</td>\n",
       "      <td>0.0</td>\n",
       "      <td>1</td>\n",
       "    </tr>\n",
       "    <tr>\n",
       "      <th>3</th>\n",
       "      <td>63</td>\n",
       "      <td>175</td>\n",
       "      <td>1.0</td>\n",
       "      <td>0</td>\n",
       "    </tr>\n",
       "    <tr>\n",
       "      <th>4</th>\n",
       "      <td>72</td>\n",
       "      <td>252</td>\n",
       "      <td>0.0</td>\n",
       "      <td>2</td>\n",
       "    </tr>\n",
       "  </tbody>\n",
       "</table>\n",
       "</div>"
      ],
      "text/plain": [
       "   height  weight  gender  cust_type\n",
       "0      70     185     1.0          0\n",
       "1      70     205     1.0          2\n",
       "2      70     125     0.0          1\n",
       "3      63     175     1.0          0\n",
       "4      72     252     0.0          2"
      ]
     },
     "execution_count": 31,
     "metadata": {},
     "output_type": "execute_result"
    }
   ],
   "source": [
    "p = df2[['age', 'height', 'weight', 'gender', 'cust_type']]\n",
    "q = df2['BMI']\n",
    "\n",
    "# Create and fit selector\n",
    "\n",
    "KBest = SelectKBest(f_regression, k=4) \n",
    "KBest.fit(p,q)\n",
    "\n",
    "# Get columns to keep and create new dataframe with those only\n",
    "cols = KBest.get_support(indices=True)\n",
    "new_df = p.iloc[:,cols] \n",
    "new_df.head()"
   ]
  },
  {
   "cell_type": "markdown",
   "id": "af280e32",
   "metadata": {},
   "source": [
    "**Height, Weight, Gender and cust_type are the 4 columns selected using SelectKBest.**\n",
    "\n",
    "Let us now take these columns as independent variables and BMI as dependent variable into X and y respectively."
   ]
  },
  {
   "cell_type": "code",
   "execution_count": 32,
   "id": "mwhSZsUUz_4o",
   "metadata": {
    "id": "mwhSZsUUz_4o"
   },
   "outputs": [],
   "source": [
    "# Selecting X and Y \n",
    "X = new_df.copy()\n",
    "y = df2['BMI']\n",
    "\n",
    "#Split test and train data\n",
    "X_train, X_test, y_train, y_test = train_test_split(X, y, test_size=0.2, random_state=543)"
   ]
  },
  {
   "cell_type": "markdown",
   "id": "037154e1",
   "metadata": {},
   "source": [
    "**Perform scaling after splitting the data into train and test to avoid data leak into test dataset.**\n",
    "\n",
    "**I scaled the data as I am evaluating both Linear Model and Tree based models.**"
   ]
  },
  {
   "cell_type": "code",
   "execution_count": 33,
   "id": "pjIkLflOz_va",
   "metadata": {
    "id": "pjIkLflOz_va"
   },
   "outputs": [],
   "source": [
    "numeric=['height', 'weight']\n",
    "rs=RobustScaler()\n",
    "X_train[numeric]=rs.fit_transform(X_train[numeric])\n",
    "X_test[numeric]=rs.transform(X_test[numeric])"
   ]
  },
  {
   "cell_type": "markdown",
   "id": "4230c992",
   "metadata": {},
   "source": [
    "**Fitting and Predicting using Linear Regression model, Decision Trees and Ensemble models.**"
   ]
  },
  {
   "cell_type": "code",
   "execution_count": 34,
   "id": "t8AjYkepZizG",
   "metadata": {
    "id": "t8AjYkepZizG"
   },
   "outputs": [],
   "source": [
    "def evaluate_models(model):\n",
    "    model.fit(X_train, y_train)\n",
    "    yhat = model.predict(X_test)\n",
    "    algoname = model.__class__.__name__\n",
    "    return algoname, round(r2_score(y_test, yhat),4), round(mean_absolute_error(y_test, yhat),4), round(np.sqrt(mean_squared_error(y_test, yhat)),4)"
   ]
  },
  {
   "cell_type": "code",
   "execution_count": 35,
   "id": "2ad625b6",
   "metadata": {
    "colab": {
     "base_uri": "https://localhost:8080/",
     "height": 192
    },
    "id": "ldUCc9N8Ziw5",
    "outputId": "392f971c-0489-4653-df56-0d41c578e576"
   },
   "outputs": [],
   "source": [
    "algorithms = [LinearRegression(),\n",
    "              DecisionTreeRegressor(),\n",
    "              RandomForestRegressor(), \n",
    "              GradientBoostingRegressor(), \n",
    "              lgbm.LGBMRegressor(), \n",
    "              xg.XGBRFRegressor()]\n",
    "eval_score = []\n",
    "for alg in algorithms:\n",
    "    eval_score.append(evaluate_models(alg))"
   ]
  },
  {
   "cell_type": "code",
   "execution_count": 36,
   "id": "d7c891b4",
   "metadata": {},
   "outputs": [
    {
     "data": {
      "text/html": [
       "<div>\n",
       "<style scoped>\n",
       "    .dataframe tbody tr th:only-of-type {\n",
       "        vertical-align: middle;\n",
       "    }\n",
       "\n",
       "    .dataframe tbody tr th {\n",
       "        vertical-align: top;\n",
       "    }\n",
       "\n",
       "    .dataframe thead th {\n",
       "        text-align: right;\n",
       "    }\n",
       "</style>\n",
       "<table border=\"1\" class=\"dataframe\">\n",
       "  <thead>\n",
       "    <tr style=\"text-align: right;\">\n",
       "      <th></th>\n",
       "      <th>Model</th>\n",
       "      <th>R2Score</th>\n",
       "      <th>MAE</th>\n",
       "      <th>RMSE</th>\n",
       "    </tr>\n",
       "  </thead>\n",
       "  <tbody>\n",
       "    <tr>\n",
       "      <th>0</th>\n",
       "      <td>LinearRegression</td>\n",
       "      <td>0.9928</td>\n",
       "      <td>0.2641</td>\n",
       "      <td>0.3174</td>\n",
       "    </tr>\n",
       "    <tr>\n",
       "      <th>1</th>\n",
       "      <td>DecisionTreeRegressor</td>\n",
       "      <td>0.9268</td>\n",
       "      <td>0.7101</td>\n",
       "      <td>1.0086</td>\n",
       "    </tr>\n",
       "    <tr>\n",
       "      <th>2</th>\n",
       "      <td>RandomForestRegressor</td>\n",
       "      <td>0.9523</td>\n",
       "      <td>0.6415</td>\n",
       "      <td>0.8140</td>\n",
       "    </tr>\n",
       "    <tr>\n",
       "      <th>3</th>\n",
       "      <td>GradientBoostingRegressor</td>\n",
       "      <td>0.9816</td>\n",
       "      <td>0.3952</td>\n",
       "      <td>0.5062</td>\n",
       "    </tr>\n",
       "    <tr>\n",
       "      <th>4</th>\n",
       "      <td>LGBMRegressor</td>\n",
       "      <td>0.7348</td>\n",
       "      <td>1.5401</td>\n",
       "      <td>1.9201</td>\n",
       "    </tr>\n",
       "    <tr>\n",
       "      <th>5</th>\n",
       "      <td>XGBRFRegressor</td>\n",
       "      <td>0.9367</td>\n",
       "      <td>0.6983</td>\n",
       "      <td>0.9384</td>\n",
       "    </tr>\n",
       "  </tbody>\n",
       "</table>\n",
       "</div>"
      ],
      "text/plain": [
       "                       Model  R2Score     MAE    RMSE\n",
       "0           LinearRegression   0.9928  0.2641  0.3174\n",
       "1      DecisionTreeRegressor   0.9268  0.7101  1.0086\n",
       "2      RandomForestRegressor   0.9523  0.6415  0.8140\n",
       "3  GradientBoostingRegressor   0.9816  0.3952  0.5062\n",
       "4              LGBMRegressor   0.7348  1.5401  1.9201\n",
       "5             XGBRFRegressor   0.9367  0.6983  0.9384"
      ]
     },
     "execution_count": 36,
     "metadata": {},
     "output_type": "execute_result"
    }
   ],
   "source": [
    "all_metrics = pd.DataFrame(eval_score, columns=['Model', 'R2Score', 'MAE', 'RMSE'])\n",
    "all_metrics"
   ]
  },
  {
   "cell_type": "markdown",
   "id": "195c67af",
   "metadata": {},
   "source": [
    "**Other than Linear Regression, we see that Gradient Boosting Regressor is the next better performing model**\n",
    "\n",
    "Let's train Gradient Boosting Regressor model and see how well it predicts on the unseen data."
   ]
  },
  {
   "cell_type": "code",
   "execution_count": 37,
   "id": "42ac702e",
   "metadata": {},
   "outputs": [
    {
     "data": {
      "text/plain": [
       "(0.9816, 0.3952, 0.5062)"
      ]
     },
     "execution_count": 37,
     "metadata": {},
     "output_type": "execute_result"
    }
   ],
   "source": [
    "modelGBR = GradientBoostingRegressor()\n",
    "modelGBR.fit(X_train, y_train)\n",
    "yhat_GBR_pred = modelGBR.predict(X_test)\n",
    "round(r2_score(y_test, yhat_GBR_pred),4), round(mean_absolute_error(y_test, yhat_GBR_pred),4), round(np.sqrt(mean_squared_error(y_test, yhat_GBR_pred)),4)"
   ]
  },
  {
   "cell_type": "markdown",
   "id": "15e4d28f",
   "metadata": {},
   "source": [
    "**Let us use GridSearchCV to find the best parameters of the model and train them using the best params and see if this improves the performance of the models.**"
   ]
  },
  {
   "cell_type": "code",
   "execution_count": 38,
   "id": "5471e162",
   "metadata": {},
   "outputs": [],
   "source": [
    "#Table to record metrics of various models\n",
    "metrics_grid=pd.DataFrame()\n",
    "Model_grid=[]\n",
    "rmse_grid=[]\n",
    "mae_grid=[]\n",
    "r2_grid=[]"
   ]
  },
  {
   "cell_type": "code",
   "execution_count": 39,
   "id": "QosTuQAaZiqw",
   "metadata": {
    "colab": {
     "base_uri": "https://localhost:8080/"
    },
    "id": "QosTuQAaZiqw",
    "outputId": "fcf5eea2-a848-46b7-8dc8-151ca89a8be8"
   },
   "outputs": [
    {
     "name": "stdout",
     "output_type": "stream",
     "text": [
      "Fitting 5 folds for each of 84 candidates, totalling 420 fits\n",
      "{'learning_rate': 0.15, 'max_depth': 3, 'n_estimators': 150}\n"
     ]
    }
   ],
   "source": [
    "param_grid = {'n_estimators': [200, 150, 100, 80, 60, 50, 45],  \n",
    "              'max_depth': [3, 4, 5, 6],\n",
    "              'learning_rate' :[0.2, 0.15, 0.1]\n",
    "             }\n",
    "                \n",
    "grid_GBR = GridSearchCV(\n",
    "    GradientBoostingRegressor(), \n",
    "    param_grid, \n",
    "    cv=KFold(n_splits=5, shuffle = True, random_state = 21), \n",
    "    scoring='neg_root_mean_squared_error',\n",
    "    refit = True, \n",
    "    verbose = 1, \n",
    "    n_jobs=-1\n",
    "    )\n",
    "\n",
    "# fitting the model for grid search \n",
    "grid_GBR.fit(X_train, y_train)\n",
    "yhat_GBR = grid_GBR.predict(X_test)\n",
    "\n",
    "print(grid_GBR.best_params_)\n",
    "\n",
    "# #evaluate metrics\n",
    "Model_grid.append(\"Gradient Boosting Regression\")\n",
    "rmse_grid.append(round(np.sqrt(mean_squared_error(y_test, yhat_GBR)),4))\n",
    "mae_grid.append(round(mean_absolute_error(y_test, yhat_GBR),4))\n",
    "r2_grid.append(round(r2_score(y_test, yhat_GBR),4))"
   ]
  },
  {
   "cell_type": "code",
   "execution_count": 40,
   "id": "jHb7WOxyZioV",
   "metadata": {
    "colab": {
     "base_uri": "https://localhost:8080/"
    },
    "id": "jHb7WOxyZioV",
    "outputId": "6970a1b0-9fbb-4412-cf1f-efc85c18ba43"
   },
   "outputs": [
    {
     "name": "stdout",
     "output_type": "stream",
     "text": [
      "Fitting 5 folds for each of 112 candidates, totalling 560 fits\n",
      "{'max_depth': 3, 'n_estimators': 200, 'num_leaves': 9}\n"
     ]
    }
   ],
   "source": [
    "param_grid = {'n_estimators': [200, 150, 100, 80, 60, 50, 45],  \n",
    "              'max_depth': [3, 4, 5, 6],\n",
    "              'num_leaves' :[9, 10, 11, 12]\n",
    "             }\n",
    "                \n",
    "grid_LGBMR = GridSearchCV(\n",
    "    lgbm.LGBMRegressor(), \n",
    "    param_grid,\n",
    "    cv=KFold(n_splits=5, shuffle = True, random_state = 21), \n",
    "    scoring='neg_root_mean_squared_error', \n",
    "    refit = True, \n",
    "    verbose = 3, \n",
    "    n_jobs=-1\n",
    "    )\n",
    "\n",
    "# fitting the model for grid search \n",
    "grid_LGBMR.fit(X_train, y_train)\n",
    "yhat_LGBMR = grid_LGBMR.predict(X_test)\n",
    "\n",
    "print(grid_LGBMR.best_params_)\n",
    "\n",
    "# #evaluate metrics\n",
    "Model_grid.append(\"Light GBM Regression\")\n",
    "rmse_grid.append(round(np.sqrt(mean_squared_error(y_test, yhat_LGBMR)),4))\n",
    "mae_grid.append(round(mean_absolute_error(y_test, yhat_LGBMR),4))\n",
    "r2_grid.append(round(r2_score(y_test, yhat_LGBMR),4))"
   ]
  },
  {
   "cell_type": "code",
   "execution_count": 41,
   "id": "uqhUDiOYZil3",
   "metadata": {
    "colab": {
     "base_uri": "https://localhost:8080/"
    },
    "id": "uqhUDiOYZil3",
    "outputId": "de24b696-165b-4347-ab9d-0f0b5f6af3e7"
   },
   "outputs": [
    {
     "name": "stdout",
     "output_type": "stream",
     "text": [
      "Fitting 5 folds for each of 35 candidates, totalling 175 fits\n",
      "{'max_depth': None, 'n_estimators': 50}\n"
     ]
    }
   ],
   "source": [
    "param_grid = {'n_estimators': [200, 150, 100, 80, 60, 50, 45],  \n",
    "              'max_depth': [None, 3, 4, 5, 6]              \n",
    "             }\n",
    "                \n",
    "grid_RFR = GridSearchCV(\n",
    "    RandomForestRegressor(), \n",
    "    param_grid, \n",
    "    cv=KFold(n_splits=5, shuffle = True, random_state = 21), \n",
    "    scoring='neg_root_mean_squared_error',\n",
    "    refit = True, \n",
    "    verbose = 3, \n",
    "    n_jobs=-1)\n",
    "\n",
    "# fitting the model for grid search \n",
    "grid_RFR.fit(X_train, y_train)\n",
    "yhat_RFR = grid_RFR.predict(X_test)\n",
    "\n",
    "print(grid_RFR.best_params_)\n",
    "\n",
    "# #evaluate metrics\n",
    "Model_grid.append(\"RandomForest Regression\")\n",
    "rmse_grid.append(round(np.sqrt(mean_squared_error(y_test, yhat_RFR)),4))\n",
    "mae_grid.append(round(mean_absolute_error(y_test, yhat_RFR),4))\n",
    "r2_grid.append(round(r2_score(y_test, yhat_RFR),4))"
   ]
  },
  {
   "cell_type": "code",
   "execution_count": 42,
   "id": "Z6RkavkJZihF",
   "metadata": {
    "colab": {
     "base_uri": "https://localhost:8080/"
    },
    "id": "Z6RkavkJZihF",
    "outputId": "6ff4e973-9aae-4203-9f19-8bb5f5c23019"
   },
   "outputs": [
    {
     "name": "stdout",
     "output_type": "stream",
     "text": [
      "Fitting 5 folds for each of 96 candidates, totalling 480 fits\n",
      "{'max_depth': 5, 'n_estimators': 150, 'reg_lambda': 0.2}\n"
     ]
    }
   ],
   "source": [
    "param_grid = {'n_estimators': [200, 150, 100, 80, 60, 55, 51, 45],  \n",
    "              'max_depth': [5, 6, 7, 8],\n",
    "              'reg_lambda' :[0.26, 0.25, 0.2]\n",
    "             }\n",
    "                \n",
    "grid_XGBR = GridSearchCV(\n",
    "    xg.XGBRFRegressor(), \n",
    "    param_grid,\n",
    "    cv=KFold(n_splits=5, shuffle = True, random_state = 21), \n",
    "    scoring='neg_root_mean_squared_error',\n",
    "    refit = True, \n",
    "    verbose = 1, \n",
    "    n_jobs=-1\n",
    "    )\n",
    "\n",
    "# fitting the model for grid search \n",
    "grid_XGBR.fit(X_train, y_train)\n",
    "yhat_XGBR = grid_XGBR.predict(X_test)\n",
    "\n",
    "print(grid_XGBR.best_params_)\n",
    "\n",
    "# #evaluate metrics\n",
    "Model_grid.append(\"XGBoost Regression\")\n",
    "rmse_grid.append(round(np.sqrt(mean_squared_error(y_test, yhat_XGBR)),3))\n",
    "mae_grid.append(round(mean_absolute_error(y_test, yhat_XGBR),3))\n",
    "r2_grid.append(round(r2_score(y_test, yhat_XGBR),3))"
   ]
  },
  {
   "cell_type": "code",
   "execution_count": 43,
   "id": "6CRDzKjE13Ry",
   "metadata": {
    "colab": {
     "base_uri": "https://localhost:8080/",
     "height": 175
    },
    "id": "6CRDzKjE13Ry",
    "outputId": "10d721f5-b1cd-4d50-e0fa-fdbffaea4086"
   },
   "outputs": [
    {
     "data": {
      "text/html": [
       "<div>\n",
       "<style scoped>\n",
       "    .dataframe tbody tr th:only-of-type {\n",
       "        vertical-align: middle;\n",
       "    }\n",
       "\n",
       "    .dataframe tbody tr th {\n",
       "        vertical-align: top;\n",
       "    }\n",
       "\n",
       "    .dataframe thead th {\n",
       "        text-align: right;\n",
       "    }\n",
       "</style>\n",
       "<table border=\"1\" class=\"dataframe\">\n",
       "  <thead>\n",
       "    <tr style=\"text-align: right;\">\n",
       "      <th></th>\n",
       "      <th>Model</th>\n",
       "      <th>R2Score</th>\n",
       "      <th>MAE</th>\n",
       "      <th>RMSE</th>\n",
       "    </tr>\n",
       "  </thead>\n",
       "  <tbody>\n",
       "    <tr>\n",
       "      <th>0</th>\n",
       "      <td>Gradient Boosting Regression</td>\n",
       "      <td>0.9660</td>\n",
       "      <td>0.4503</td>\n",
       "      <td>0.6873</td>\n",
       "    </tr>\n",
       "    <tr>\n",
       "      <th>1</th>\n",
       "      <td>Light GBM Regression</td>\n",
       "      <td>0.6739</td>\n",
       "      <td>1.6427</td>\n",
       "      <td>2.1290</td>\n",
       "    </tr>\n",
       "    <tr>\n",
       "      <th>2</th>\n",
       "      <td>RandomForest Regression</td>\n",
       "      <td>0.9457</td>\n",
       "      <td>0.6969</td>\n",
       "      <td>0.8685</td>\n",
       "    </tr>\n",
       "    <tr>\n",
       "      <th>3</th>\n",
       "      <td>XGBoost Regression</td>\n",
       "      <td>0.6460</td>\n",
       "      <td>1.7480</td>\n",
       "      <td>2.2170</td>\n",
       "    </tr>\n",
       "  </tbody>\n",
       "</table>\n",
       "</div>"
      ],
      "text/plain": [
       "                          Model  R2Score     MAE    RMSE\n",
       "0  Gradient Boosting Regression   0.9660  0.4503  0.6873\n",
       "1          Light GBM Regression   0.6739  1.6427  2.1290\n",
       "2       RandomForest Regression   0.9457  0.6969  0.8685\n",
       "3            XGBoost Regression   0.6460  1.7480  2.2170"
      ]
     },
     "execution_count": 43,
     "metadata": {},
     "output_type": "execute_result"
    }
   ],
   "source": [
    "metrics_grid['Model']=Model_grid\n",
    "metrics_grid['R2Score']=r2_grid\n",
    "metrics_grid['MAE']=mae_grid\n",
    "metrics_grid['RMSE']=rmse_grid\n",
    "\n",
    "metrics_grid"
   ]
  },
  {
   "cell_type": "markdown",
   "id": "fe1fd341",
   "metadata": {},
   "source": [
    "**all_metrics:** Evaluation of models on scaled dataset and default parameters\n",
    "\n",
    "**metrics_grid:** Evaluation of ensemble models on scaled dataset and best parameters found through GridSearchCV\n",
    "\n",
    "Comparing the above 2 metrics: Models with default parameters perform better than parameters found through GridSearchCV."
   ]
  },
  {
   "cell_type": "markdown",
   "id": "fca9e338",
   "metadata": {},
   "source": [
    "### After evaluating various Linear models and Ensemble models, I can conclude that Linear Regression Model trained with Polynomial Features outperforms all the other models and hence it will be used to predict BMI on the new dataset."
   ]
  },
  {
   "cell_type": "markdown",
   "id": "21c291ca",
   "metadata": {},
   "source": [
    "### Testing on a completely new test data\n",
    "\n",
    "**I created additional test data to see how well the model predict BMI on this unseen data.**"
   ]
  },
  {
   "cell_type": "code",
   "execution_count": 44,
   "id": "f6gA5y6XFK-d",
   "metadata": {
    "colab": {
     "base_uri": "https://localhost:8080/",
     "height": 206
    },
    "id": "f6gA5y6XFK-d",
    "outputId": "4bede74a-2c0a-4673-861b-2a82a74469c3"
   },
   "outputs": [
    {
     "data": {
      "text/html": [
       "<div>\n",
       "<style scoped>\n",
       "    .dataframe tbody tr th:only-of-type {\n",
       "        vertical-align: middle;\n",
       "    }\n",
       "\n",
       "    .dataframe tbody tr th {\n",
       "        vertical-align: top;\n",
       "    }\n",
       "\n",
       "    .dataframe thead th {\n",
       "        text-align: right;\n",
       "    }\n",
       "</style>\n",
       "<table border=\"1\" class=\"dataframe\">\n",
       "  <thead>\n",
       "    <tr style=\"text-align: right;\">\n",
       "      <th></th>\n",
       "      <th>age</th>\n",
       "      <th>height</th>\n",
       "      <th>weight</th>\n",
       "      <th>gender</th>\n",
       "    </tr>\n",
       "  </thead>\n",
       "  <tbody>\n",
       "    <tr>\n",
       "      <th>0</th>\n",
       "      <td>25</td>\n",
       "      <td>45</td>\n",
       "      <td>50</td>\n",
       "      <td>Male</td>\n",
       "    </tr>\n",
       "    <tr>\n",
       "      <th>1</th>\n",
       "      <td>18</td>\n",
       "      <td>55</td>\n",
       "      <td>65</td>\n",
       "      <td>Female</td>\n",
       "    </tr>\n",
       "    <tr>\n",
       "      <th>2</th>\n",
       "      <td>41</td>\n",
       "      <td>58</td>\n",
       "      <td>80</td>\n",
       "      <td>Male</td>\n",
       "    </tr>\n",
       "    <tr>\n",
       "      <th>3</th>\n",
       "      <td>59</td>\n",
       "      <td>56</td>\n",
       "      <td>75</td>\n",
       "      <td>Female</td>\n",
       "    </tr>\n",
       "    <tr>\n",
       "      <th>4</th>\n",
       "      <td>36</td>\n",
       "      <td>55</td>\n",
       "      <td>100</td>\n",
       "      <td>Male</td>\n",
       "    </tr>\n",
       "  </tbody>\n",
       "</table>\n",
       "</div>"
      ],
      "text/plain": [
       "   age  height  weight  gender\n",
       "0   25      45      50    Male\n",
       "1   18      55      65  Female\n",
       "2   41      58      80    Male\n",
       "3   59      56      75  Female\n",
       "4   36      55     100    Male"
      ]
     },
     "execution_count": 44,
     "metadata": {},
     "output_type": "execute_result"
    }
   ],
   "source": [
    "test_df = pd.read_csv(r'C:\\Users\\amrut\\Documents\\Prudential\\testdata.csv')\n",
    "# test_df = pd.read_csv('/content/gdrive/MyDrive/testing.csv')\n",
    "test_df.head()"
   ]
  },
  {
   "cell_type": "markdown",
   "id": "b27af179",
   "metadata": {},
   "source": [
    "**Encode the categorical variable \"gender\" using enc.transform**"
   ]
  },
  {
   "cell_type": "code",
   "execution_count": 45,
   "id": "0572dd34",
   "metadata": {},
   "outputs": [
    {
     "data": {
      "text/html": [
       "<div>\n",
       "<style scoped>\n",
       "    .dataframe tbody tr th:only-of-type {\n",
       "        vertical-align: middle;\n",
       "    }\n",
       "\n",
       "    .dataframe tbody tr th {\n",
       "        vertical-align: top;\n",
       "    }\n",
       "\n",
       "    .dataframe thead th {\n",
       "        text-align: right;\n",
       "    }\n",
       "</style>\n",
       "<table border=\"1\" class=\"dataframe\">\n",
       "  <thead>\n",
       "    <tr style=\"text-align: right;\">\n",
       "      <th></th>\n",
       "      <th>age</th>\n",
       "      <th>height</th>\n",
       "      <th>weight</th>\n",
       "      <th>gender</th>\n",
       "    </tr>\n",
       "  </thead>\n",
       "  <tbody>\n",
       "    <tr>\n",
       "      <th>0</th>\n",
       "      <td>25</td>\n",
       "      <td>45</td>\n",
       "      <td>50</td>\n",
       "      <td>1.0</td>\n",
       "    </tr>\n",
       "    <tr>\n",
       "      <th>1</th>\n",
       "      <td>18</td>\n",
       "      <td>55</td>\n",
       "      <td>65</td>\n",
       "      <td>0.0</td>\n",
       "    </tr>\n",
       "    <tr>\n",
       "      <th>2</th>\n",
       "      <td>41</td>\n",
       "      <td>58</td>\n",
       "      <td>80</td>\n",
       "      <td>1.0</td>\n",
       "    </tr>\n",
       "    <tr>\n",
       "      <th>3</th>\n",
       "      <td>59</td>\n",
       "      <td>56</td>\n",
       "      <td>75</td>\n",
       "      <td>0.0</td>\n",
       "    </tr>\n",
       "    <tr>\n",
       "      <th>4</th>\n",
       "      <td>36</td>\n",
       "      <td>55</td>\n",
       "      <td>100</td>\n",
       "      <td>1.0</td>\n",
       "    </tr>\n",
       "  </tbody>\n",
       "</table>\n",
       "</div>"
      ],
      "text/plain": [
       "   age  height  weight  gender\n",
       "0   25      45      50     1.0\n",
       "1   18      55      65     0.0\n",
       "2   41      58      80     1.0\n",
       "3   59      56      75     0.0\n",
       "4   36      55     100     1.0"
      ]
     },
     "execution_count": 45,
     "metadata": {},
     "output_type": "execute_result"
    }
   ],
   "source": [
    "#Passing gender variable\n",
    "enc = pd.DataFrame(ohenc.transform(test_df[['gender']]).toarray())\n",
    "\n",
    "# replace the column with encoded values in the original dataset\n",
    "test_df['gender']= enc\n",
    "test_df.head()"
   ]
  },
  {
   "cell_type": "markdown",
   "id": "b5e0c31e",
   "metadata": {},
   "source": [
    "**Creating Polynomial Features using poly.transform**"
   ]
  },
  {
   "cell_type": "code",
   "execution_count": 46,
   "id": "3c57dc72",
   "metadata": {},
   "outputs": [],
   "source": [
    "testdf_poly = poly.transform(test_df)"
   ]
  },
  {
   "cell_type": "markdown",
   "id": "bcf21d13",
   "metadata": {},
   "source": [
    "**Use Linear Regression Model trained with Polynomial Features \"linreg_poly\" to predict on the testdf_poly**"
   ]
  },
  {
   "cell_type": "code",
   "execution_count": 47,
   "id": "33ce920f",
   "metadata": {},
   "outputs": [],
   "source": [
    "yhat_test_poly = linreg_poly.predict(testdf_poly)"
   ]
  },
  {
   "cell_type": "markdown",
   "id": "8d3cbe5d",
   "metadata": {},
   "source": [
    "**yhat_test_poly** contains prediction from linear regression model"
   ]
  },
  {
   "cell_type": "markdown",
   "id": "c40dbeca",
   "metadata": {},
   "source": [
    "**To predict using Gradient Boosting Regressor, we need to perform the required steps:**\n",
    "\n",
    "**1. Kmeans custering to create a new feature using kmeans.predict()**\n",
    "\n",
    "**2. Transform features using rs.transform()**"
   ]
  },
  {
   "cell_type": "code",
   "execution_count": 48,
   "id": "4KdaYbpMX3E-",
   "metadata": {
    "id": "4KdaYbpMX3E-",
    "scrolled": true
   },
   "outputs": [
    {
     "data": {
      "text/html": [
       "<div>\n",
       "<style scoped>\n",
       "    .dataframe tbody tr th:only-of-type {\n",
       "        vertical-align: middle;\n",
       "    }\n",
       "\n",
       "    .dataframe tbody tr th {\n",
       "        vertical-align: top;\n",
       "    }\n",
       "\n",
       "    .dataframe thead th {\n",
       "        text-align: right;\n",
       "    }\n",
       "</style>\n",
       "<table border=\"1\" class=\"dataframe\">\n",
       "  <thead>\n",
       "    <tr style=\"text-align: right;\">\n",
       "      <th></th>\n",
       "      <th>height</th>\n",
       "      <th>weight</th>\n",
       "      <th>gender</th>\n",
       "      <th>cust_type</th>\n",
       "    </tr>\n",
       "  </thead>\n",
       "  <tbody>\n",
       "    <tr>\n",
       "      <th>0</th>\n",
       "      <td>45</td>\n",
       "      <td>50</td>\n",
       "      <td>1.0</td>\n",
       "      <td>1</td>\n",
       "    </tr>\n",
       "    <tr>\n",
       "      <th>1</th>\n",
       "      <td>55</td>\n",
       "      <td>65</td>\n",
       "      <td>0.0</td>\n",
       "      <td>1</td>\n",
       "    </tr>\n",
       "    <tr>\n",
       "      <th>2</th>\n",
       "      <td>58</td>\n",
       "      <td>80</td>\n",
       "      <td>1.0</td>\n",
       "      <td>1</td>\n",
       "    </tr>\n",
       "    <tr>\n",
       "      <th>3</th>\n",
       "      <td>56</td>\n",
       "      <td>75</td>\n",
       "      <td>0.0</td>\n",
       "      <td>1</td>\n",
       "    </tr>\n",
       "    <tr>\n",
       "      <th>4</th>\n",
       "      <td>55</td>\n",
       "      <td>100</td>\n",
       "      <td>1.0</td>\n",
       "      <td>1</td>\n",
       "    </tr>\n",
       "  </tbody>\n",
       "</table>\n",
       "</div>"
      ],
      "text/plain": [
       "   height  weight  gender  cust_type\n",
       "0      45      50     1.0          1\n",
       "1      55      65     0.0          1\n",
       "2      58      80     1.0          1\n",
       "3      56      75     0.0          1\n",
       "4      55     100     1.0          1"
      ]
     },
     "execution_count": 48,
     "metadata": {},
     "output_type": "execute_result"
    }
   ],
   "source": [
    "final_df = test_df.copy()\n",
    "final_df['cust_type'] = kmeans.predict(final_df)\n",
    "final_df.drop(columns = ['age'], inplace=True)\n",
    "final_df.head()"
   ]
  },
  {
   "cell_type": "code",
   "execution_count": 49,
   "id": "84afc944",
   "metadata": {},
   "outputs": [],
   "source": [
    "numeric = ['height', 'weight']\n",
    "final_df[numeric] = rs.transform(final_df[numeric])"
   ]
  },
  {
   "cell_type": "code",
   "execution_count": 50,
   "id": "d93c8811",
   "metadata": {},
   "outputs": [],
   "source": [
    "yhat_predGBR = modelGBR.predict(final_df)"
   ]
  },
  {
   "cell_type": "markdown",
   "id": "80054712",
   "metadata": {},
   "source": [
    "**Calculating BMI on new data to compare it with the predictions from best performing models.**"
   ]
  },
  {
   "cell_type": "code",
   "execution_count": 51,
   "id": "93d45f71",
   "metadata": {},
   "outputs": [
    {
     "data": {
      "text/html": [
       "<div>\n",
       "<style scoped>\n",
       "    .dataframe tbody tr th:only-of-type {\n",
       "        vertical-align: middle;\n",
       "    }\n",
       "\n",
       "    .dataframe tbody tr th {\n",
       "        vertical-align: top;\n",
       "    }\n",
       "\n",
       "    .dataframe thead th {\n",
       "        text-align: right;\n",
       "    }\n",
       "</style>\n",
       "<table border=\"1\" class=\"dataframe\">\n",
       "  <thead>\n",
       "    <tr style=\"text-align: right;\">\n",
       "      <th></th>\n",
       "      <th>age</th>\n",
       "      <th>height</th>\n",
       "      <th>weight</th>\n",
       "      <th>gender</th>\n",
       "      <th>true_BMI</th>\n",
       "    </tr>\n",
       "  </thead>\n",
       "  <tbody>\n",
       "    <tr>\n",
       "      <th>0</th>\n",
       "      <td>25</td>\n",
       "      <td>45</td>\n",
       "      <td>50</td>\n",
       "      <td>1.0</td>\n",
       "      <td>17.358025</td>\n",
       "    </tr>\n",
       "    <tr>\n",
       "      <th>1</th>\n",
       "      <td>18</td>\n",
       "      <td>55</td>\n",
       "      <td>65</td>\n",
       "      <td>0.0</td>\n",
       "      <td>15.105785</td>\n",
       "    </tr>\n",
       "    <tr>\n",
       "      <th>2</th>\n",
       "      <td>41</td>\n",
       "      <td>58</td>\n",
       "      <td>80</td>\n",
       "      <td>1.0</td>\n",
       "      <td>16.718193</td>\n",
       "    </tr>\n",
       "    <tr>\n",
       "      <th>3</th>\n",
       "      <td>59</td>\n",
       "      <td>56</td>\n",
       "      <td>75</td>\n",
       "      <td>0.0</td>\n",
       "      <td>16.812819</td>\n",
       "    </tr>\n",
       "    <tr>\n",
       "      <th>4</th>\n",
       "      <td>36</td>\n",
       "      <td>55</td>\n",
       "      <td>100</td>\n",
       "      <td>1.0</td>\n",
       "      <td>23.239669</td>\n",
       "    </tr>\n",
       "  </tbody>\n",
       "</table>\n",
       "</div>"
      ],
      "text/plain": [
       "   age  height  weight  gender   true_BMI\n",
       "0   25      45      50     1.0  17.358025\n",
       "1   18      55      65     0.0  15.105785\n",
       "2   41      58      80     1.0  16.718193\n",
       "3   59      56      75     0.0  16.812819\n",
       "4   36      55     100     1.0  23.239669"
      ]
     },
     "execution_count": 51,
     "metadata": {},
     "output_type": "execute_result"
    }
   ],
   "source": [
    "# calculate true BMI on test_df\n",
    "bmi = calculateBMI(list(test_df.height), list(test_df.weight))\n",
    "test_df = test_df.assign(true_BMI = bmi)\n",
    "test_df.head()"
   ]
  },
  {
   "cell_type": "code",
   "execution_count": 52,
   "id": "82bc21aa",
   "metadata": {},
   "outputs": [],
   "source": [
    "test_df['pred_LR_poly'] = yhat_test_poly\n",
    "test_df['pred_GBR'] = yhat_predGBR"
   ]
  },
  {
   "cell_type": "code",
   "execution_count": 53,
   "id": "5b18271a",
   "metadata": {},
   "outputs": [
    {
     "data": {
      "text/html": [
       "<div>\n",
       "<style scoped>\n",
       "    .dataframe tbody tr th:only-of-type {\n",
       "        vertical-align: middle;\n",
       "    }\n",
       "\n",
       "    .dataframe tbody tr th {\n",
       "        vertical-align: top;\n",
       "    }\n",
       "\n",
       "    .dataframe thead th {\n",
       "        text-align: right;\n",
       "    }\n",
       "</style>\n",
       "<table border=\"1\" class=\"dataframe\">\n",
       "  <thead>\n",
       "    <tr style=\"text-align: right;\">\n",
       "      <th></th>\n",
       "      <th>age</th>\n",
       "      <th>height</th>\n",
       "      <th>weight</th>\n",
       "      <th>gender</th>\n",
       "      <th>true_BMI</th>\n",
       "      <th>pred_LR_poly</th>\n",
       "      <th>pred_GBR</th>\n",
       "    </tr>\n",
       "  </thead>\n",
       "  <tbody>\n",
       "    <tr>\n",
       "      <th>0</th>\n",
       "      <td>25</td>\n",
       "      <td>45</td>\n",
       "      <td>50</td>\n",
       "      <td>1.0</td>\n",
       "      <td>17.358025</td>\n",
       "      <td>19.131797</td>\n",
       "      <td>23.866259</td>\n",
       "    </tr>\n",
       "    <tr>\n",
       "      <th>1</th>\n",
       "      <td>18</td>\n",
       "      <td>55</td>\n",
       "      <td>65</td>\n",
       "      <td>0.0</td>\n",
       "      <td>15.105785</td>\n",
       "      <td>15.417788</td>\n",
       "      <td>23.502746</td>\n",
       "    </tr>\n",
       "    <tr>\n",
       "      <th>2</th>\n",
       "      <td>41</td>\n",
       "      <td>58</td>\n",
       "      <td>80</td>\n",
       "      <td>1.0</td>\n",
       "      <td>16.718193</td>\n",
       "      <td>16.818977</td>\n",
       "      <td>23.866259</td>\n",
       "    </tr>\n",
       "    <tr>\n",
       "      <th>3</th>\n",
       "      <td>59</td>\n",
       "      <td>56</td>\n",
       "      <td>75</td>\n",
       "      <td>0.0</td>\n",
       "      <td>16.812819</td>\n",
       "      <td>17.010034</td>\n",
       "      <td>23.502746</td>\n",
       "    </tr>\n",
       "    <tr>\n",
       "      <th>4</th>\n",
       "      <td>36</td>\n",
       "      <td>55</td>\n",
       "      <td>100</td>\n",
       "      <td>1.0</td>\n",
       "      <td>23.239669</td>\n",
       "      <td>23.368726</td>\n",
       "      <td>23.866259</td>\n",
       "    </tr>\n",
       "    <tr>\n",
       "      <th>5</th>\n",
       "      <td>20</td>\n",
       "      <td>58</td>\n",
       "      <td>120</td>\n",
       "      <td>0.0</td>\n",
       "      <td>25.077289</td>\n",
       "      <td>25.125819</td>\n",
       "      <td>24.021934</td>\n",
       "    </tr>\n",
       "    <tr>\n",
       "      <th>6</th>\n",
       "      <td>60</td>\n",
       "      <td>55</td>\n",
       "      <td>200</td>\n",
       "      <td>1.0</td>\n",
       "      <td>46.479339</td>\n",
       "      <td>46.183451</td>\n",
       "      <td>34.819104</td>\n",
       "    </tr>\n",
       "    <tr>\n",
       "      <th>7</th>\n",
       "      <td>65</td>\n",
       "      <td>50</td>\n",
       "      <td>185</td>\n",
       "      <td>0.0</td>\n",
       "      <td>52.022000</td>\n",
       "      <td>51.030132</td>\n",
       "      <td>34.574036</td>\n",
       "    </tr>\n",
       "    <tr>\n",
       "      <th>8</th>\n",
       "      <td>70</td>\n",
       "      <td>50</td>\n",
       "      <td>150</td>\n",
       "      <td>1.0</td>\n",
       "      <td>42.180000</td>\n",
       "      <td>41.648660</td>\n",
       "      <td>28.340343</td>\n",
       "    </tr>\n",
       "    <tr>\n",
       "      <th>9</th>\n",
       "      <td>39</td>\n",
       "      <td>55</td>\n",
       "      <td>170</td>\n",
       "      <td>0.0</td>\n",
       "      <td>39.507438</td>\n",
       "      <td>39.355243</td>\n",
       "      <td>33.263676</td>\n",
       "    </tr>\n",
       "    <tr>\n",
       "      <th>10</th>\n",
       "      <td>45</td>\n",
       "      <td>52</td>\n",
       "      <td>150</td>\n",
       "      <td>0.0</td>\n",
       "      <td>38.997781</td>\n",
       "      <td>38.742376</td>\n",
       "      <td>28.146213</td>\n",
       "    </tr>\n",
       "  </tbody>\n",
       "</table>\n",
       "</div>"
      ],
      "text/plain": [
       "    age  height  weight  gender   true_BMI  pred_LR_poly   pred_GBR\n",
       "0    25      45      50     1.0  17.358025     19.131797  23.866259\n",
       "1    18      55      65     0.0  15.105785     15.417788  23.502746\n",
       "2    41      58      80     1.0  16.718193     16.818977  23.866259\n",
       "3    59      56      75     0.0  16.812819     17.010034  23.502746\n",
       "4    36      55     100     1.0  23.239669     23.368726  23.866259\n",
       "5    20      58     120     0.0  25.077289     25.125819  24.021934\n",
       "6    60      55     200     1.0  46.479339     46.183451  34.819104\n",
       "7    65      50     185     0.0  52.022000     51.030132  34.574036\n",
       "8    70      50     150     1.0  42.180000     41.648660  28.340343\n",
       "9    39      55     170     0.0  39.507438     39.355243  33.263676\n",
       "10   45      52     150     0.0  38.997781     38.742376  28.146213"
      ]
     },
     "execution_count": 53,
     "metadata": {},
     "output_type": "execute_result"
    }
   ],
   "source": [
    "test_df"
   ]
  },
  {
   "cell_type": "markdown",
   "id": "dc12a2e1",
   "metadata": {},
   "source": [
    "### As we can see predictions from Linear Regression model are very close to True BMI values."
   ]
  }
 ],
 "metadata": {
  "colab": {
   "provenance": []
  },
  "kernelspec": {
   "display_name": "Python 3 (ipykernel)",
   "language": "python",
   "name": "python3"
  },
  "language_info": {
   "codemirror_mode": {
    "name": "ipython",
    "version": 3
   },
   "file_extension": ".py",
   "mimetype": "text/x-python",
   "name": "python",
   "nbconvert_exporter": "python",
   "pygments_lexer": "ipython3",
   "version": "3.9.7"
  }
 },
 "nbformat": 4,
 "nbformat_minor": 5
}
